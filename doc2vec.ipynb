{
 "cells": [
  {
   "cell_type": "code",
   "execution_count": null,
   "id": "ffc0e3c6",
   "metadata": {
    "tags": []
   },
   "outputs": [],
   "source": [
    "import os.path # Directories, gotta have em.\n",
    "import pickle # Better than .csv + a cute name.\n",
    "import pandas as pd # DataFrames. Looping is easy. Obscure functions are fast.\n",
    "import numpy as np # do math on vectors with more obscure functions.\n",
    "import re # one-way encryption for your codebase\n",
    "import pathlib\n",
    "from scipy import stats\n",
    "\n",
    "# Interactive Computing\n",
    "from timeit import default_timer as tm\n",
    "import datetime\n",
    "from tqdm import tqdm\n",
    "\n",
    "# Spacy\n",
    "import spacy\n",
    "from spacy.tokens import Doc, DocBin\n",
    "nlp = spacy.load('en_core_web_trf')\n",
    "if Doc.has_extension('name'):\n",
    "    pass\n",
    "else:\n",
    "    Doc.set_extension('name', default=None)\n",
    "\n",
    "import gensim"
   ]
  },
  {
   "cell_type": "code",
   "execution_count": 2,
   "id": "68cc177a",
   "metadata": {},
   "outputs": [
    {
     "data": {
      "text/plain": [
       "0         423A1CA112E2\n",
       "1         423A1CA112E2\n",
       "2         423A1CA112E2\n",
       "3         423A1CA112E2\n",
       "4         423A1CA112E2\n",
       "              ...     \n",
       "285378    DF920E0A7337\n",
       "285379    DF920E0A7337\n",
       "285380    DF920E0A7337\n",
       "285381    DF920E0A7337\n",
       "285382    DF920E0A7337\n",
       "Name: essay_id_comp, Length: 285383, dtype: object"
      ]
     },
     "metadata": {},
     "output_type": "display_data"
    }
   ],
   "source": [
    "persuade_corpus = pd.read_pickle('persuade_corpus_full.pkl')\n",
    "display(persuade_corpus.essay_id_comp)"
   ]
  },
  {
   "cell_type": "code",
   "execution_count": 7,
   "id": "48283541",
   "metadata": {},
   "outputs": [
    {
     "name": "stderr",
     "output_type": "stream",
     "text": [
      "100%|██████████| 285383/285383 [01:24<00:00, 3386.66it/s]"
     ]
    },
    {
     "name": "stdout",
     "output_type": "stream",
     "text": [
      "85.89\n"
     ]
    },
    {
     "name": "stderr",
     "output_type": "stream",
     "text": [
      "\n"
     ]
    }
   ],
   "source": [
    "spacy_file = 'persuade.spacy'\n",
    "\n",
    "def proc_texts(text_tuples):\n",
    "    doc_bin = DocBin(attrs=[\"ORTH\", \"TAG\", \"HEAD\", \"DEP\", \"LEMMA\", \"MORPH\", \"POS\"], store_user_data=True)\n",
    "    for doc, name in nlp.pipe(text_tuples, as_tuples=True):\n",
    "        doc._.trf_data = None\n",
    "        doc._.name = name\n",
    "#         doc.cats = {} # I can use this to store categories for spacy text categorization later on.\n",
    "        doc_bin.add(doc)\n",
    "    return doc_bin\n",
    "\n",
    "if os.path.isfile(spacy_file):\n",
    "    doc_bin = DocBin().from_disk(spacy_file)\n",
    "else:\n",
    "    doc_bin = proc_texts(text_id_tuples)\n",
    "    doc_bin.to_disk(spacy_file)\n",
    "docs = list(tqdm(doc_bin.get_docs(nlp.vocab), total=len(doc_bin)))"
   ]
  },
  {
   "cell_type": "code",
   "execution_count": 8,
   "id": "fcface25",
   "metadata": {},
   "outputs": [
    {
     "data": {
      "text/plain": [
       "Index(['Claim', 'Evidence', 'Unannotated', 'Position', 'Concluding Statement',\n",
       "       'Lead', 'Counterclaim', 'Rebuttal'],\n",
       "      dtype='object', name='discourse_type')"
      ]
     },
     "metadata": {},
     "output_type": "display_data"
    }
   ],
   "source": [
    "discourse_types = persuade_corpus[['discourse_type']].copy()\n",
    "display(discourse_types.value_counts().index.get_level_values(0))"
   ]
  },
  {
   "cell_type": "code",
   "execution_count": 9,
   "id": "bc275888-cc65-4e2d-9ea8-e8861f0ef75c",
   "metadata": {},
   "outputs": [],
   "source": [
    "simple_texts_file = 'simple_texts_with_stops.pkl'\n",
    "\n",
    "simple_texts = [] # list of lists of strings\n",
    "for doc in docs:\n",
    "    new_doc = [t.lemma_ for t in doc if t.is_alpha]\n",
    "    simple_texts.append(new_doc)\n",
    "\n",
    "discourse_types['text'] = simple_texts"
   ]
  },
  {
   "cell_type": "code",
   "execution_count": 10,
   "id": "9f1879bd-7c0b-4dfa-bf82-6b18c1ba054b",
   "metadata": {},
   "outputs": [
    {
     "name": "stdout",
     "output_type": "stream",
     "text": [
      "Number of discourse unit labels with LESS THAN 2 tokens:\n"
     ]
    },
    {
     "data": {
      "text/plain": [
       "Unannotated    18670\n",
       "Claim            477\n",
       "Position           5\n",
       "Name: discourse_type, dtype: int64"
      ]
     },
     "metadata": {},
     "output_type": "display_data"
    },
    {
     "data": {
      "text/html": [
       "<div>\n",
       "<style scoped>\n",
       "    .dataframe tbody tr th:only-of-type {\n",
       "        vertical-align: middle;\n",
       "    }\n",
       "\n",
       "    .dataframe tbody tr th {\n",
       "        vertical-align: top;\n",
       "    }\n",
       "\n",
       "    .dataframe thead th {\n",
       "        text-align: right;\n",
       "    }\n",
       "</style>\n",
       "<table border=\"1\" class=\"dataframe\">\n",
       "  <thead>\n",
       "    <tr style=\"text-align: right;\">\n",
       "      <th></th>\n",
       "      <th>discourse_type</th>\n",
       "      <th>text</th>\n",
       "    </tr>\n",
       "  </thead>\n",
       "  <tbody>\n",
       "    <tr>\n",
       "      <th>302</th>\n",
       "      <td>Claim</td>\n",
       "      <td>[mentally]</td>\n",
       "    </tr>\n",
       "    <tr>\n",
       "      <th>510</th>\n",
       "      <td>Claim</td>\n",
       "      <td>[accident]</td>\n",
       "    </tr>\n",
       "    <tr>\n",
       "      <th>1229</th>\n",
       "      <td>Claim</td>\n",
       "      <td>[accident]</td>\n",
       "    </tr>\n",
       "    <tr>\n",
       "      <th>2135</th>\n",
       "      <td>Claim</td>\n",
       "      <td>[distraction]</td>\n",
       "    </tr>\n",
       "    <tr>\n",
       "      <th>2136</th>\n",
       "      <td>Claim</td>\n",
       "      <td>[swerve]</td>\n",
       "    </tr>\n",
       "  </tbody>\n",
       "</table>\n",
       "</div>"
      ],
      "text/plain": [
       "     discourse_type           text\n",
       "302           Claim     [mentally]\n",
       "510           Claim     [accident]\n",
       "1229          Claim     [accident]\n",
       "2135          Claim  [distraction]\n",
       "2136          Claim       [swerve]"
      ]
     },
     "metadata": {},
     "output_type": "display_data"
    },
    {
     "name": "stdout",
     "output_type": "stream",
     "text": [
      "Number of discourse unit labels with LESS THAN 3 tokens:\n"
     ]
    },
    {
     "data": {
      "text/plain": [
       "Unannotated    25960\n",
       "Claim           1484\n",
       "Position          45\n",
       "Name: discourse_type, dtype: int64"
      ]
     },
     "metadata": {},
     "output_type": "display_data"
    },
    {
     "data": {
      "text/html": [
       "<div>\n",
       "<style scoped>\n",
       "    .dataframe tbody tr th:only-of-type {\n",
       "        vertical-align: middle;\n",
       "    }\n",
       "\n",
       "    .dataframe tbody tr th {\n",
       "        vertical-align: top;\n",
       "    }\n",
       "\n",
       "    .dataframe thead th {\n",
       "        text-align: right;\n",
       "    }\n",
       "</style>\n",
       "<table border=\"1\" class=\"dataframe\">\n",
       "  <thead>\n",
       "    <tr style=\"text-align: right;\">\n",
       "      <th></th>\n",
       "      <th>discourse_type</th>\n",
       "      <th>text</th>\n",
       "    </tr>\n",
       "  </thead>\n",
       "  <tbody>\n",
       "    <tr>\n",
       "      <th>302</th>\n",
       "      <td>Claim</td>\n",
       "      <td>[mentally]</td>\n",
       "    </tr>\n",
       "    <tr>\n",
       "      <th>510</th>\n",
       "      <td>Claim</td>\n",
       "      <td>[accident]</td>\n",
       "    </tr>\n",
       "    <tr>\n",
       "      <th>534</th>\n",
       "      <td>Claim</td>\n",
       "      <td>[it, illegal]</td>\n",
       "    </tr>\n",
       "    <tr>\n",
       "      <th>727</th>\n",
       "      <td>Claim</td>\n",
       "      <td>[injure, people]</td>\n",
       "    </tr>\n",
       "    <tr>\n",
       "      <th>1229</th>\n",
       "      <td>Claim</td>\n",
       "      <td>[accident]</td>\n",
       "    </tr>\n",
       "  </tbody>\n",
       "</table>\n",
       "</div>"
      ],
      "text/plain": [
       "     discourse_type              text\n",
       "302           Claim        [mentally]\n",
       "510           Claim        [accident]\n",
       "534           Claim     [it, illegal]\n",
       "727           Claim  [injure, people]\n",
       "1229          Claim        [accident]"
      ]
     },
     "metadata": {},
     "output_type": "display_data"
    },
    {
     "name": "stdout",
     "output_type": "stream",
     "text": [
      "Number of discourse unit labels with LESS THAN 4 tokens:\n"
     ]
    },
    {
     "data": {
      "text/plain": [
       "Unannotated    28714\n",
       "Claim           2731\n",
       "Position          99\n",
       "Name: discourse_type, dtype: int64"
      ]
     },
     "metadata": {},
     "output_type": "display_data"
    },
    {
     "data": {
      "text/html": [
       "<div>\n",
       "<style scoped>\n",
       "    .dataframe tbody tr th:only-of-type {\n",
       "        vertical-align: middle;\n",
       "    }\n",
       "\n",
       "    .dataframe tbody tr th {\n",
       "        vertical-align: top;\n",
       "    }\n",
       "\n",
       "    .dataframe thead th {\n",
       "        text-align: right;\n",
       "    }\n",
       "</style>\n",
       "<table border=\"1\" class=\"dataframe\">\n",
       "  <thead>\n",
       "    <tr style=\"text-align: right;\">\n",
       "      <th></th>\n",
       "      <th>discourse_type</th>\n",
       "      <th>text</th>\n",
       "    </tr>\n",
       "  </thead>\n",
       "  <tbody>\n",
       "    <tr>\n",
       "      <th>90</th>\n",
       "      <td>Claim</td>\n",
       "      <td>[slow, reaction, time]</td>\n",
       "    </tr>\n",
       "    <tr>\n",
       "      <th>91</th>\n",
       "      <td>Claim</td>\n",
       "      <td>[and, fatal, injury]</td>\n",
       "    </tr>\n",
       "    <tr>\n",
       "      <th>302</th>\n",
       "      <td>Claim</td>\n",
       "      <td>[mentally]</td>\n",
       "    </tr>\n",
       "    <tr>\n",
       "      <th>369</th>\n",
       "      <td>Claim</td>\n",
       "      <td>[hit, a, pedestrian]</td>\n",
       "    </tr>\n",
       "    <tr>\n",
       "      <th>510</th>\n",
       "      <td>Claim</td>\n",
       "      <td>[accident]</td>\n",
       "    </tr>\n",
       "  </tbody>\n",
       "</table>\n",
       "</div>"
      ],
      "text/plain": [
       "    discourse_type                    text\n",
       "90           Claim  [slow, reaction, time]\n",
       "91           Claim    [and, fatal, injury]\n",
       "302          Claim              [mentally]\n",
       "369          Claim    [hit, a, pedestrian]\n",
       "510          Claim              [accident]"
      ]
     },
     "metadata": {},
     "output_type": "display_data"
    },
    {
     "name": "stdout",
     "output_type": "stream",
     "text": [
      "Number of discourse unit labels with LESS THAN 5 tokens:\n"
     ]
    },
    {
     "data": {
      "text/plain": [
       "Unannotated    30308\n",
       "Claim           4490\n",
       "Position         248\n",
       "Name: discourse_type, dtype: int64"
      ]
     },
     "metadata": {},
     "output_type": "display_data"
    },
    {
     "data": {
      "text/html": [
       "<div>\n",
       "<style scoped>\n",
       "    .dataframe tbody tr th:only-of-type {\n",
       "        vertical-align: middle;\n",
       "    }\n",
       "\n",
       "    .dataframe tbody tr th {\n",
       "        vertical-align: top;\n",
       "    }\n",
       "\n",
       "    .dataframe thead th {\n",
       "        text-align: right;\n",
       "    }\n",
       "</style>\n",
       "<table border=\"1\" class=\"dataframe\">\n",
       "  <thead>\n",
       "    <tr style=\"text-align: right;\">\n",
       "      <th></th>\n",
       "      <th>discourse_type</th>\n",
       "      <th>text</th>\n",
       "    </tr>\n",
       "  </thead>\n",
       "  <tbody>\n",
       "    <tr>\n",
       "      <th>13</th>\n",
       "      <td>Claim</td>\n",
       "      <td>[be, because, bad, wreck]</td>\n",
       "    </tr>\n",
       "    <tr>\n",
       "      <th>15</th>\n",
       "      <td>Claim</td>\n",
       "      <td>[and, may, cause, death]</td>\n",
       "    </tr>\n",
       "    <tr>\n",
       "      <th>59</th>\n",
       "      <td>Claim</td>\n",
       "      <td>[it, can, be, illegal]</td>\n",
       "    </tr>\n",
       "    <tr>\n",
       "      <th>90</th>\n",
       "      <td>Claim</td>\n",
       "      <td>[slow, reaction, time]</td>\n",
       "    </tr>\n",
       "    <tr>\n",
       "      <th>91</th>\n",
       "      <td>Claim</td>\n",
       "      <td>[and, fatal, injury]</td>\n",
       "    </tr>\n",
       "  </tbody>\n",
       "</table>\n",
       "</div>"
      ],
      "text/plain": [
       "   discourse_type                       text\n",
       "13          Claim  [be, because, bad, wreck]\n",
       "15          Claim   [and, may, cause, death]\n",
       "59          Claim     [it, can, be, illegal]\n",
       "90          Claim     [slow, reaction, time]\n",
       "91          Claim       [and, fatal, injury]"
      ]
     },
     "metadata": {},
     "output_type": "display_data"
    }
   ],
   "source": [
    "for i in range(2,6):\n",
    "    print(f'Number of discourse unit labels with LESS THAN {str(i)} tokens:')\n",
    "    display(discourse_types[discourse_types['text'].apply(len) < i]['discourse_type'].value_counts()[:3])\n",
    "    display(discourse_types[(discourse_types['text'].apply(len) < i) & (discourse_types['discourse_type'].str.match('Claim'))][:5])"
   ]
  },
  {
   "cell_type": "markdown",
   "id": "ab86eec1-10a4-4afe-a3be-35d200fdbb57",
   "metadata": {},
   "source": [
    "# Let's Clean this up a bit\n",
    "I'm going to be conservative and just filter out lists with only one token (less than 2)\n",
    "\n",
    "We may want to circle back and be more aggressive here.\n",
    "\n",
    "I'm not clear on how 1-word segments were labelled as claims...\n",
    "\n",
    "It seems that 2 word segments that contain a verb are likely to be claims, else unannotated."
   ]
  },
  {
   "cell_type": "code",
   "execution_count": 13,
   "id": "1afeb0c5-1365-4118-b962-9f8dbfc68cb8",
   "metadata": {},
   "outputs": [
    {
     "data": {
      "text/html": [
       "<div>\n",
       "<style scoped>\n",
       "    .dataframe tbody tr th:only-of-type {\n",
       "        vertical-align: middle;\n",
       "    }\n",
       "\n",
       "    .dataframe tbody tr th {\n",
       "        vertical-align: top;\n",
       "    }\n",
       "\n",
       "    .dataframe thead th {\n",
       "        text-align: right;\n",
       "    }\n",
       "</style>\n",
       "<table border=\"1\" class=\"dataframe\">\n",
       "  <thead>\n",
       "    <tr style=\"text-align: right;\">\n",
       "      <th></th>\n",
       "      <th>discourse_type</th>\n",
       "      <th>text</th>\n",
       "    </tr>\n",
       "  </thead>\n",
       "  <tbody>\n",
       "    <tr>\n",
       "      <th>1</th>\n",
       "      <td>Lead</td>\n",
       "      <td>[modern, human, today, be, always, on, their, ...</td>\n",
       "    </tr>\n",
       "    <tr>\n",
       "      <th>2</th>\n",
       "      <td>Position</td>\n",
       "      <td>[they, be, some, really, bad, consequence, whe...</td>\n",
       "    </tr>\n",
       "    <tr>\n",
       "      <th>3</th>\n",
       "      <td>Evidence</td>\n",
       "      <td>[some, certain, area, in, the, United, States,...</td>\n",
       "    </tr>\n",
       "    <tr>\n",
       "      <th>4</th>\n",
       "      <td>Evidence</td>\n",
       "      <td>[when, people, have, phone, they, know, about,...</td>\n",
       "    </tr>\n",
       "    <tr>\n",
       "      <th>5</th>\n",
       "      <td>Claim</td>\n",
       "      <td>[driving, be, one, of, the, way, how, to, get,...</td>\n",
       "    </tr>\n",
       "    <tr>\n",
       "      <th>...</th>\n",
       "      <td>...</td>\n",
       "      <td>...</td>\n",
       "    </tr>\n",
       "    <tr>\n",
       "      <th>285375</th>\n",
       "      <td>Unannotated</td>\n",
       "      <td>[first, I, think, it, show, you, more, than, o...</td>\n",
       "    </tr>\n",
       "    <tr>\n",
       "      <th>285376</th>\n",
       "      <td>Evidence</td>\n",
       "      <td>[one, opinion, of, a, person, might, destroy, ...</td>\n",
       "    </tr>\n",
       "    <tr>\n",
       "      <th>285378</th>\n",
       "      <td>Evidence</td>\n",
       "      <td>[one, person, can, change, your, option, but, ...</td>\n",
       "    </tr>\n",
       "    <tr>\n",
       "      <th>285380</th>\n",
       "      <td>Evidence</td>\n",
       "      <td>[have, more, than, one, person, opinion, might...</td>\n",
       "    </tr>\n",
       "    <tr>\n",
       "      <th>285382</th>\n",
       "      <td>Concluding Statement</td>\n",
       "      <td>[find, more, than, one, persons, view, be, wel...</td>\n",
       "    </tr>\n",
       "  </tbody>\n",
       "</table>\n",
       "<p>222788 rows × 2 columns</p>\n",
       "</div>"
      ],
      "text/plain": [
       "              discourse_type  \\\n",
       "1                       Lead   \n",
       "2                   Position   \n",
       "3                   Evidence   \n",
       "4                   Evidence   \n",
       "5                      Claim   \n",
       "...                      ...   \n",
       "285375           Unannotated   \n",
       "285376              Evidence   \n",
       "285378              Evidence   \n",
       "285380              Evidence   \n",
       "285382  Concluding Statement   \n",
       "\n",
       "                                                     text  \n",
       "1       [modern, human, today, be, always, on, their, ...  \n",
       "2       [they, be, some, really, bad, consequence, whe...  \n",
       "3       [some, certain, area, in, the, United, States,...  \n",
       "4       [when, people, have, phone, they, know, about,...  \n",
       "5       [driving, be, one, of, the, way, how, to, get,...  \n",
       "...                                                   ...  \n",
       "285375  [first, I, think, it, show, you, more, than, o...  \n",
       "285376  [one, opinion, of, a, person, might, destroy, ...  \n",
       "285378  [one, person, can, change, your, option, but, ...  \n",
       "285380  [have, more, than, one, person, opinion, might...  \n",
       "285382  [find, more, than, one, persons, view, be, wel...  \n",
       "\n",
       "[222788 rows x 2 columns]"
      ]
     },
     "metadata": {},
     "output_type": "display_data"
    }
   ],
   "source": [
    "elements = discourse_types[discourse_types['text'].apply(len) >= 10]\n",
    "display(elements)"
   ]
  },
  {
   "cell_type": "code",
   "execution_count": 14,
   "id": "61a6f0d8-8248-42a5-b8ac-7ac0556ae75d",
   "metadata": {},
   "outputs": [
    {
     "data": {
      "text/plain": [
       "10569558"
      ]
     },
     "metadata": {},
     "output_type": "display_data"
    },
    {
     "data": {
      "text/plain": [
       "10312743"
      ]
     },
     "metadata": {},
     "output_type": "display_data"
    },
    {
     "data": {
      "text/html": [
       "<div>\n",
       "<style scoped>\n",
       "    .dataframe tbody tr th:only-of-type {\n",
       "        vertical-align: middle;\n",
       "    }\n",
       "\n",
       "    .dataframe tbody tr th {\n",
       "        vertical-align: top;\n",
       "    }\n",
       "\n",
       "    .dataframe thead th {\n",
       "        text-align: right;\n",
       "    }\n",
       "</style>\n",
       "<table border=\"1\" class=\"dataframe\">\n",
       "  <thead>\n",
       "    <tr style=\"text-align: right;\">\n",
       "      <th></th>\n",
       "      <th>discourse_type</th>\n",
       "      <th>text</th>\n",
       "    </tr>\n",
       "  </thead>\n",
       "  <tbody>\n",
       "    <tr>\n",
       "      <th>1</th>\n",
       "      <td>Lead</td>\n",
       "      <td>[modern, human, today, be, always, on, their, ...</td>\n",
       "    </tr>\n",
       "    <tr>\n",
       "      <th>2</th>\n",
       "      <td>Position</td>\n",
       "      <td>[they, be, some, really, bad, consequence, whe...</td>\n",
       "    </tr>\n",
       "    <tr>\n",
       "      <th>3</th>\n",
       "      <td>Evidence</td>\n",
       "      <td>[some, certain, area, in, the, United, States,...</td>\n",
       "    </tr>\n",
       "    <tr>\n",
       "      <th>4</th>\n",
       "      <td>Evidence</td>\n",
       "      <td>[when, people, have, phone, they, know, about,...</td>\n",
       "    </tr>\n",
       "    <tr>\n",
       "      <th>5</th>\n",
       "      <td>Claim</td>\n",
       "      <td>[driving, be, one, of, the, way, how, to, get,...</td>\n",
       "    </tr>\n",
       "    <tr>\n",
       "      <th>...</th>\n",
       "      <td>...</td>\n",
       "      <td>...</td>\n",
       "    </tr>\n",
       "    <tr>\n",
       "      <th>285375</th>\n",
       "      <td>Unannotated</td>\n",
       "      <td>[first, I, think, it, show, you, more, than, o...</td>\n",
       "    </tr>\n",
       "    <tr>\n",
       "      <th>285376</th>\n",
       "      <td>Evidence</td>\n",
       "      <td>[one, opinion, of, a, person, might, destroy, ...</td>\n",
       "    </tr>\n",
       "    <tr>\n",
       "      <th>285378</th>\n",
       "      <td>Evidence</td>\n",
       "      <td>[one, person, can, change, your, option, but, ...</td>\n",
       "    </tr>\n",
       "    <tr>\n",
       "      <th>285380</th>\n",
       "      <td>Evidence</td>\n",
       "      <td>[have, more, than, one, person, opinion, might...</td>\n",
       "    </tr>\n",
       "    <tr>\n",
       "      <th>285382</th>\n",
       "      <td>Concluding Statement</td>\n",
       "      <td>[find, more, than, one, persons, view, be, wel...</td>\n",
       "    </tr>\n",
       "  </tbody>\n",
       "</table>\n",
       "<p>222788 rows × 2 columns</p>\n",
       "</div>"
      ],
      "text/plain": [
       "              discourse_type  \\\n",
       "1                       Lead   \n",
       "2                   Position   \n",
       "3                   Evidence   \n",
       "4                   Evidence   \n",
       "5                      Claim   \n",
       "...                      ...   \n",
       "285375           Unannotated   \n",
       "285376              Evidence   \n",
       "285378              Evidence   \n",
       "285380              Evidence   \n",
       "285382  Concluding Statement   \n",
       "\n",
       "                                                     text  \n",
       "1       [modern, human, today, be, always, on, their, ...  \n",
       "2       [they, be, some, really, bad, consequence, whe...  \n",
       "3       [some, certain, area, in, the, United, States,...  \n",
       "4       [when, people, have, phone, they, know, about,...  \n",
       "5       [driving, be, one, of, the, way, how, to, get,...  \n",
       "...                                                   ...  \n",
       "285375  [first, I, think, it, show, you, more, than, o...  \n",
       "285376  [one, opinion, of, a, person, might, destroy, ...  \n",
       "285378  [one, person, can, change, your, option, but, ...  \n",
       "285380  [have, more, than, one, person, opinion, might...  \n",
       "285382  [find, more, than, one, persons, view, be, wel...  \n",
       "\n",
       "[222788 rows x 2 columns]"
      ]
     },
     "metadata": {},
     "output_type": "display_data"
    }
   ],
   "source": [
    "display(sum(discourse_types['text'].apply(len)))\n",
    "display(sum(elements['text'].apply(len)))\n",
    "display(elements)"
   ]
  },
  {
   "cell_type": "code",
   "execution_count": 15,
   "id": "0bba4319-98a3-4701-b683-25a7643f9a34",
   "metadata": {},
   "outputs": [],
   "source": [
    "from sklearn.model_selection import train_test_split\n",
    "X_train, X_test, y_train, y_test = train_test_split(elements['text'], elements['discourse_type'], test_size=0.33, random_state=42)\n",
    "# display(X_train.iloc[[99]])\n",
    "# display(y_train.iloc[[99]])\n",
    "\n",
    "# for ind, item in enumerate(X_train[:5].iteritems()):\n",
    "#     print(item[0])\n",
    "#     print(item[1])\n",
    "#     print(y_train.iloc[ind])"
   ]
  },
  {
   "cell_type": "code",
   "execution_count": 91,
   "id": "872d2b5b",
   "metadata": {},
   "outputs": [],
   "source": [
    "def toks_to_tags(texts, labels):\n",
    "    '''\n",
    "    texts and labels must have matched indices\n",
    "    '''\n",
    "    for ind, text in enumerate(texts.iteritems()):\n",
    "        yield(gensim.models.doc2vec.TaggedDocument(text[1], [str(text[0])]))\n",
    "        # yield(gensim.models.doc2vec.TaggedDocument(text[1], [str(text[0]), labels.iloc[ind]]))\n",
    "\n",
    "train_corpus = list(toks_to_tags(X_train, y_train))\n",
    "test_corpus = list(toks_to_tags(X_test, y_test))"
   ]
  },
  {
   "cell_type": "markdown",
   "id": "167c6121-9dbd-4bd7-a803-e24c039ccd4a",
   "metadata": {},
   "source": [
    "- [x] Do word2vec first into matrix/dataframe. Check cosine similarities/semantic similarities of sentences.\n",
    "- [x] Request COCA preloaded vector matrix\n",
    "\n",
    "- [x] Get word count: 10,569,558 (raw) - 10,552,942 (elements with 2 or more tokens)\n",
    "- [x] Lemmatize before creating Vocab\n",
    "   - This appears to make the results worse, but not sure yet. Definitely no improvement.\n",
    "\n",
    "- [ ] For diagnostic purposes: Get 10 or so discourse elements that are clearly similar and verify that the model agrees that they are similar.\n",
    "\n",
    "- [ ] Throw it at an RF Classifier.\n",
    "\n",
    "- [ ] Think about eventually comparing results with spelling corrected and original versions. Might use neurSpell for this."
   ]
  },
  {
   "cell_type": "code",
   "execution_count": 92,
   "id": "b797dd53-09b0-4724-9a61-cbdae1735c61",
   "metadata": {},
   "outputs": [
    {
     "name": "stdout",
     "output_type": "stream",
     "text": [
      "149267\n",
      "['207667']\n"
     ]
    }
   ],
   "source": [
    "print(len(train_corpus))\n",
    "print(train_corpus[1].tags)"
   ]
  },
  {
   "cell_type": "code",
   "execution_count": 94,
   "id": "16181bdd",
   "metadata": {},
   "outputs": [
    {
     "name": "stdout",
     "output_type": "stream",
     "text": [
      "The size of the model's vocabulary is 21,077.\n",
      "Word 'phone' appeared 18636 times in the training corpus.\n"
     ]
    }
   ],
   "source": [
    "model = gensim.models.doc2vec.Doc2Vec(vector_size=100, min_count=2, epochs=75, workers=4)\n",
    "model.build_vocab(train_corpus)\n",
    "print(f\"The size of the model's vocabulary is {len(model.wv):,}.\")\n",
    "print(f\"Word 'phone' appeared {model.wv.get_vecattr('phone', 'count')} times in the training corpus.\")"
   ]
  },
  {
   "cell_type": "code",
   "execution_count": 95,
   "id": "c44b32b6",
   "metadata": {},
   "outputs": [
    {
     "name": "stdout",
     "output_type": "stream",
     "text": [
      "0:12:36\n"
     ]
    }
   ],
   "source": [
    "st = tm()\n",
    "model.train(train_corpus,\n",
    "            total_examples=model.corpus_count,\n",
    "            epochs=model.epochs)\n",
    "print(datetime.timedelta(seconds=round(tm()-st)))"
   ]
  },
  {
   "cell_type": "code",
   "execution_count": null,
   "id": "3095582d-87c4-4878-86fd-932687920908",
   "metadata": {},
   "outputs": [],
   "source": [
    "print('The number of computed word vectors is...', len(model.wv))\n",
    "word_vectors = model.wv\n",
    "print('The word vector for phone is...')\n",
    "print(word_vectors['phone'])\n",
    "\n",
    "diag_words = ['phone', 'election', 'help', 'believe', 'argue', 'car', 'drive']\n",
    "\n",
    "def simmer(diag_words, num_results):\n",
    "    print()\n",
    "    for word in diag_words:\n",
    "        print(f'Most similar words to {word}:')\n",
    "        for sim_word, score in word_vectors.most_similar(positive=[word])[:num_results]:\n",
    "            print(sim_word, round(score, 2), end=' -- ')\n",
    "        print('\\n')\n",
    "        \n",
    "simmer(diag_words, 4)\n",
    "\n",
    "print('We also have paragraph or document vectors')\n",
    "print('The word vector for discourse element 1 is..')\n",
    "[print(word, end=' ') for word in X_train.iat[1]]\n",
    "print()\n",
    "print(model.dv[1])\n",
    "print()\n",
    "\n",
    "# print('We also have keyed vectors that are similar to document vectors but represent a label')\n",
    "# print('The keyed vector for Claim is...')\n",
    "# print(model.dv['Claim'])"
   ]
  },
  {
   "cell_type": "code",
   "execution_count": 84,
   "id": "84203257-a22e-43e2-9d94-7494614086b2",
   "metadata": {
    "jupyter": {
     "source_hidden": true
    },
    "tags": []
   },
   "outputs": [],
   "source": [
    "# for text in test_corpus[:5]:\n",
    "#     print(y_test.iloc[int(text.tags)])\n",
    "#     print(text.tags)\n",
    "#     print(X_test.iloc[int(text.tags)])\n",
    "\n",
    "def diagnosticator(test_corpus, X_train, y_train, debug=False):\n",
    "    y_pred = []\n",
    "    y_true = []\n",
    "    for doc in test_corpus:\n",
    "        idx = int(doc.tags[0])\n",
    "        inferred_vector = model.infer_vector(doc.words)\n",
    "        sims = model.dv.similar_by_vector(inferred_vector, topn=9)\n",
    "\n",
    "        # pred = int(sims[0][0]) if sims[0][0].isdigit() else sims[0][0]\n",
    "        pred = next(int(pred[0]) for pred in sims if pred[0].isdigit())\n",
    "        print(sims)\n",
    "        print(pred)\n",
    "#         if debug:\n",
    "#             print(f'True: {doc.tags[1]}')\n",
    "#             print('Unseen text:', end='  ')\n",
    "#             [print(word, end=' ') for word in doc.words]\n",
    "#             print()\n",
    "#         if type(pred) == int:\n",
    "#             pred_label = y_train.at[pred]\n",
    "#             if debug:\n",
    "#                 print('Most similar text:', end='  ')\n",
    "#                 [print(word, end=' ') for word in X_train[pred]]\n",
    "#                 print()\n",
    "#                 print(f'Predicted: {pred_label}')\n",
    "#                 print('---')\n",
    "#         elif type(pred) == str:\n",
    "#             pred_label = pred\n",
    "#             if debug:\n",
    "#                 print(f'Most similar to keyed vector: {pred}')\n",
    "#                 print('---')\n",
    "\n",
    "#         y_true.append(doc.tags[1])\n",
    "        # y_pred.append(pred_label)\n",
    "#         second_ranks.append(sims[1])\n",
    "    return y_true, y_pred"
   ]
  },
  {
   "cell_type": "code",
   "execution_count": 156,
   "id": "4b1e5773-a73c-4378-8e6f-3adcc0a19134",
   "metadata": {},
   "outputs": [],
   "source": [
    "def diagnosticator(X_test, y_test, X_train, y_train, debug=False):\n",
    "    y_pred = []\n",
    "    y_true = []\n",
    "    for ind, doc in tqdm(X_test.iteritems()):\n",
    "        inferred_vector = model.infer_vector(doc)\n",
    "        pred = int(model.dv.similar_by_vector(inferred_vector, topn=1)[0][0])\n",
    "        if debug:\n",
    "            print(f'True: {y_test.at[ind]}')\n",
    "            print('Unseen text:', end='  ')\n",
    "            [print(word, end=' ') for word in doc]\n",
    "            print()\n",
    "        if type(pred) == int:\n",
    "            pred_label = y_train.at[pred]\n",
    "            if debug:\n",
    "                print('Most similar text:', end='  ')\n",
    "                [print(word, end=' ') for word in X_train[pred]]\n",
    "                print()\n",
    "                print(f'Predicted: {pred_label}')\n",
    "                print('---')\n",
    "        elif type(pred) == str:\n",
    "            pred_label = pred\n",
    "            if debug:\n",
    "                print(f'Most similar to keyed vector: {pred}')\n",
    "                print('---')\n",
    "\n",
    "        y_true.append(y_test.at[ind])\n",
    "        y_pred.append(pred_label)\n",
    "    return y_true, y_pred"
   ]
  },
  {
   "cell_type": "code",
   "execution_count": null,
   "id": "4e04bfde-9add-46c3-a561-0f51d4a3e576",
   "metadata": {},
   "outputs": [],
   "source": [
    "x, y = diagnosticator(X_test=X_test[:15],\n",
    "                      y_test=y_test,\n",
    "                      X_train=X_train,\n",
    "                      y_train=y_train,\n",
    "                      debug=True)"
   ]
  },
  {
   "cell_type": "code",
   "execution_count": null,
   "id": "e61a21f7-ead7-441e-9fe0-d930afd0bef9",
   "metadata": {
    "tags": []
   },
   "outputs": [],
   "source": [
    "# labels = ['Claim', 'Evidence', 'Unannotated', 'Position', 'Concluding Statement',\n",
    "#        'Lead', 'Counterclaim', 'Rebuttal']\n",
    "# for label in labels:\n",
    "#     print(model.dv.get_index(label, default=None))"
   ]
  },
  {
   "cell_type": "code",
   "execution_count": null,
   "id": "6ee6ed0e",
   "metadata": {
    "jupyter": {
     "source_hidden": true
    },
    "tags": []
   },
   "outputs": [],
   "source": [
    "# doc_id = 4\n",
    "\n",
    "# test = train_corpus[doc_id]\n",
    "# inferred_vector = model.infer_vector(test.words)\n",
    "# display(test.tags[0])\n",
    "# sims = model.dv.most_similar([inferred_vector])\n",
    "# display(sims)\n",
    "# rank = [docid for docid, sim in sims].index(test.tags[0])\n",
    "# display(rank)\n",
    "# display(sims[1])"
   ]
  },
  {
   "cell_type": "code",
   "execution_count": 191,
   "id": "c6e7e312",
   "metadata": {
    "jupyter": {
     "source_hidden": true
    },
    "tags": []
   },
   "outputs": [],
   "source": [
    "# def diagnosticator(texts):\n",
    "#     y_pred = []\n",
    "#     y_true = []\n",
    "# #     second_ranks = []\n",
    "#     for text in texts:\n",
    "#         label = text.tags[0]\n",
    "#         inferred_vector = model.infer_vector(text.words)\n",
    "#         sims = model.dv.most_similar([inferred_vector], topn=1)\n",
    "# #         sims = model.dv.most_similar([inferred_vector], topn=len(model.dv))\n",
    "#         pred = sims[0][0]\n",
    "# #         pred = [docid for docid, sim in sims].index(label)\n",
    "#         y_true.append(label)\n",
    "#         y_pred.append(pred)\n",
    "# #         second_ranks.append(sims[1])\n",
    "#     return y_true, y_pred"
   ]
  },
  {
   "cell_type": "code",
   "execution_count": 157,
   "id": "6ecf8a3b",
   "metadata": {},
   "outputs": [
    {
     "name": "stderr",
     "output_type": "stream",
     "text": [
      "1000it [00:06, 155.95it/s]\n"
     ]
    }
   ],
   "source": [
    "# y_true, y_pred = diagnosticator(tqdm(test_corpus),\n",
    "#                       X_train=X_train,\n",
    "#                       y_train=y_train)\n",
    "y_true, y_pred = diagnosticator(X_test=X_test[:1000],\n",
    "                                y_test=y_test,\n",
    "                                X_train=X_train,\n",
    "                                y_train=y_train)"
   ]
  },
  {
   "cell_type": "code",
   "execution_count": 158,
   "id": "1faef2f8",
   "metadata": {},
   "outputs": [
    {
     "name": "stdout",
     "output_type": "stream",
     "text": [
      "                      precision    recall  f1-score   support\n",
      "\n",
      "               Claim       0.47      0.55      0.50       303\n",
      "Concluding Statement       0.23      0.15      0.18       102\n",
      "        Counterclaim       0.13      0.20      0.16        25\n",
      "            Evidence       0.60      0.45      0.51       350\n",
      "                Lead       0.23      0.23      0.23        66\n",
      "            Position       0.22      0.35      0.27        79\n",
      "            Rebuttal       0.00      0.00      0.00        22\n",
      "         Unannotated       0.18      0.21      0.19        53\n",
      "\n",
      "            accuracy                           0.40      1000\n",
      "           macro avg       0.26      0.27      0.26      1000\n",
      "        weighted avg       0.42      0.40      0.40      1000\n",
      "\n"
     ]
    },
    {
     "data": {
      "image/png": "[encoded data removed]",
      "text/plain": [
       "<Figure size 1224x1080 with 2 Axes>"
      ]
     },
     "metadata": {
      "needs_background": "light"
     },
     "output_type": "display_data"
    }
   ],
   "source": [
    "from sklearn.metrics import confusion_matrix, ConfusionMatrixDisplay\n",
    "from sklearn.metrics import classification_report\n",
    "from sklearn.metrics import precision_recall_fscore_support\n",
    "import matplotlib.pyplot as plt\n",
    "plt.rcParams[\"figure.figsize\"] = (17,15)\n",
    "\n",
    "# precision, recall, fscore, support = precision_recall_fscore_support(y_true, y_pred, average='macro')\n",
    "# display(f'Precision: {precision:.2f}, Recall: {recall:.2f}, F1: {fscore:.2f}')\n",
    "\n",
    "print(classification_report(y_true, y_pred))\n",
    "\n",
    "ConfusionMatrixDisplay.from_predictions(y_true, y_pred)\n",
    "plt.show()"
   ]
  },
  {
   "cell_type": "code",
   "execution_count": null,
   "id": "1ea66f9c-e18b-4a99-bd80-a0353be06235",
   "metadata": {},
   "outputs": [],
   "source": [
    "from sklearn.linear_model import LogisticRegression\n",
    "from sklearn.metrics import confusion_matrix, classification_report\n",
    "\n",
    "def heatconmat(y_true,y_pred):\n",
    "    # sns.set_context('talk')\n",
    "    plt.figure(figsize=(9,6))\n",
    "    sns.heatmap(confusion_matrix(y_true,y_pred),\n",
    "                annot=True,\n",
    "                # fmt='d',\n",
    "                cbar=False,\n",
    "                # cmap='gist_earth_r',\n",
    "                yticklabels=sorted(y_test.unique()))\n",
    "    plt.show()\n",
    "    print(classification_report(y_true,y_pred))\n",
    "#Fit and predict\n",
    "\n",
    "lrc = LogisticRegression(C=5, multi_class='multinomial', solver='saga',max_iter=1000)\n",
    "lrc.fit(X_train_log,y_train)\n",
    "y_pred = lrc.predict(np.array([model.infer_vector(\n",
    "    tagged_test[i][0]) for i in range(len(tagged_test))]))\n",
    "# heatconmat(y_test,y_pred)"
   ]
  },
  {
   "cell_type": "code",
   "execution_count": 180,
   "id": "e45b4f47-d98c-4cf6-bc7f-9c620c201c86",
   "metadata": {},
   "outputs": [
    {
     "name": "stderr",
     "output_type": "stream",
     "text": [
      "100%|██████████| 149267/149267 [00:00<00:00, 478483.44it/s]\n",
      "100%|██████████| 73521/73521 [04:16<00:00, 287.19it/s]\n"
     ]
    }
   ],
   "source": [
    "# X_train_log = np.array([model.dv[i] for i in range(len(model.dv))])\n",
    "def vector_retrieval(model, input_docs):\n",
    "    targets, feature_vectors = zip(*[(doc.tags[0], model[doc.tags[0]]) for doc in input_docs])\n",
    "    return targets, feature_vectors\n",
    "def vector_inference(model, input_docs):\n",
    "    targets, feature_vectors = zip(*[(doc.tags[0], model.infer_vector(doc.words, steps=20)) for doc in input_docs])\n",
    "    return targets, feature_vectors\n",
    "y_cls_train, X_cls_train = vector_retrieval(model, tqdm(train_corpus))\n",
    "y_cls_test, X_cls_test = vector_inference(model, tqdm(test_corpus))"
   ]
  },
  {
   "cell_type": "code",
   "execution_count": null,
   "id": "babcb474-021f-4e1c-ae50-d507fa0f7595",
   "metadata": {},
   "outputs": [],
   "source": [
    "from sklearn.svm import SVC\n",
    "classifier = SVC(kernel=\"linear\", C=0.025)\n",
    "# classifier = LogisticRegression(n_jobs=4, solver='saga')\n",
    "\n",
    "classifier.fit(X_cls_train, y_cls_train)\n",
    "y_cls_pred = classifier.predict(X_cls_test)"
   ]
  },
  {
   "cell_type": "code",
   "execution_count": null,
   "id": "80c65fa2-16ad-47a9-96ff-327d3748be64",
   "metadata": {},
   "outputs": [],
   "source": [
    "print(classification_report(y_cls_test, y_cls_pred))\n",
    "\n",
    "ConfusionMatrixDisplay.from_predictions(y_cls_test, y_cls_pred)\n",
    "plt.show()"
   ]
  }
 ],
 "metadata": {
  "kernelspec": {
   "display_name": "Python 3 (ipykernel)",
   "language": "python",
   "name": "python3"
  },
  "language_info": {
   "codemirror_mode": {
    "name": "ipython",
    "version": 3
   },
   "file_extension": ".py",
   "mimetype": "text/x-python",
   "name": "python",
   "nbconvert_exporter": "python",
   "pygments_lexer": "ipython3",
   "version": "3.9.7"
  }
 },
 "nbformat": 4,
 "nbformat_minor": 5
}
