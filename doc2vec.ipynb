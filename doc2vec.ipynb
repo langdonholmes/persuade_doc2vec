{
 "cells": [
  {
   "cell_type": "markdown",
   "id": "7d190844-4015-4c8d-a070-b025dc2ee940",
   "metadata": {
    "tags": []
   },
   "source": [
    "# Using document vectors to predict discourse element labels in argumentative student essays\n",
    "\n",
    "- [x] Do word2vec first into matrix/dataframe. Check cosine similarities/semantic similarities of sentences.\n",
    "- [x] Request COCA preloaded vector matrix\n",
    "\n",
    "- [x] Get word count: 10,569,558 (raw) - 10,552,942 (elements with 2 or more tokens)\n",
    "- [x] Lemmatize before creating Vocab [Maybe this helped? Hard to say.]\n",
    "- [x] For diagnostic purposes: Get 10 or so discourse elements that are clearly similar and verify that the model agrees that they are similar. [Results look pretty good]\n",
    "\n",
    "- [x] Throw it at an RF Classifier.\n",
    "\n",
    "- [ ] Combine discourse elements like rebuttal and evidence. Also remove unannotated.\n",
    "        Rebuttal and counterclaim were infrequent labels, so I just removed them. Did not improve results.\n",
    "    \n",
    "- [X] Look for classifiers that work well with unbalanced labels. Multinomial Logistic Regression?\n",
    "        Support Vector Classification is a popular choice for unbalanced classes. It does not result in much improvement.\n",
    "        Additionally, LDA seems to behave well with unbalanced data: https://sci2s.ugr.es/keel/pdf/specific/articulo/xue_do_2008.pdf\n",
    "    \n",
    "- [ ] Think about eventually comparing results with spelling corrected and original versions. Might use neurSpell for this.\n",
    "        This could be a next step, although I would expect very minor differences if any.\n",
    "\n",
    "## Langdon's thoughts\n",
    "\n",
    "We may see better results if we include contextual information as well. \n",
    "\n",
    "We might try an essay-level document vector as well as a discourse-element-level vector. It should be possible to concatenate or average these vectors in a meaningful way, but I would need to look into the details.\n",
    "\n",
    "Positional information might also be useful. Again, I'm not sure exactly how this sort of information is embedded into a vector, but I think there are methods available."
   ]
  },
  {
   "cell_type": "markdown",
   "id": "eea40c21-26bb-4311-8691-76fb63a4de46",
   "metadata": {
    "jp-MarkdownHeadingCollapsed": true,
    "tags": []
   },
   "source": [
    "## Invocation"
   ]
  },
  {
   "cell_type": "code",
   "execution_count": 6,
   "id": "ffc0e3c6",
   "metadata": {
    "tags": []
   },
   "outputs": [],
   "source": [
    "import os.path # Directories, gotta have em.\n",
    "import pickle # Better than .csv + a cute name.\n",
    "import pandas as pd # DataFrames. Looping is easy. Obscure functions are fast.\n",
    "import numpy as np # do math on vectors with more obscure functions.\n",
    "import re # one-way encryption for your codebase\n",
    "import pathlib\n",
    "from scipy import stats\n",
    "\n",
    "import matplotlib.pyplot as plt\n",
    "import seaborn as sns\n",
    "\n",
    "# Interactive Computing\n",
    "from timeit import default_timer as tm\n",
    "import datetime\n",
    "from tqdm import tqdm\n",
    "\n",
    "# Spacy\n",
    "import spacy\n",
    "from spacy.tokens import Doc, DocBin\n",
    "nlp = spacy.load('en_core_web_trf')\n",
    "\n",
    "if not Doc.has_extension('name'):\n",
    "    Doc.set_extension('name', default=None)\n",
    "\n",
    "import gensim"
   ]
  },
  {
   "cell_type": "markdown",
   "id": "49350b09-a91c-46ba-ad58-652d7ea3863a",
   "metadata": {
    "tags": []
   },
   "source": [
    "## Exploration"
   ]
  },
  {
   "cell_type": "code",
   "execution_count": 2,
   "id": "68cc177a",
   "metadata": {},
   "outputs": [
    {
     "data": {
      "text/plain": [
       "0         423A1CA112E2\n",
       "1         423A1CA112E2\n",
       "2         423A1CA112E2\n",
       "3         423A1CA112E2\n",
       "4         423A1CA112E2\n",
       "              ...     \n",
       "285378    DF920E0A7337\n",
       "285379    DF920E0A7337\n",
       "285380    DF920E0A7337\n",
       "285381    DF920E0A7337\n",
       "285382    DF920E0A7337\n",
       "Name: essay_id_comp, Length: 285383, dtype: object"
      ]
     },
     "metadata": {},
     "output_type": "display_data"
    }
   ],
   "source": [
    "persuade_corpus = pd.read_pickle('persuade_corpus_full.pkl')\n",
    "display(persuade_corpus.essay_id_comp)"
   ]
  },
  {
   "cell_type": "code",
   "execution_count": 3,
   "id": "48283541",
   "metadata": {},
   "outputs": [
    {
     "name": "stderr",
     "output_type": "stream",
     "text": [
      "100%|██████████| 285383/285383 [01:23<00:00, 3435.15it/s]\n"
     ]
    }
   ],
   "source": [
    "spacy_file = 'persuade.spacy'\n",
    "\n",
    "def proc_texts(text_tuples):\n",
    "    doc_bin = DocBin(attrs=[\"ORTH\", \"TAG\", \"HEAD\", \"DEP\", \"LEMMA\", \"MORPH\", \"POS\"], store_user_data=True)\n",
    "    for doc, name in nlp.pipe(text_tuples, as_tuples=True):\n",
    "        doc._.trf_data = None\n",
    "        doc._.name = name\n",
    "#         doc.cats = {} # I can use this to store categories for spacy text categorization later on.\n",
    "        doc_bin.add(doc)\n",
    "    return doc_bin\n",
    "\n",
    "if os.path.isfile(spacy_file):\n",
    "    doc_bin = DocBin().from_disk(spacy_file)\n",
    "else:\n",
    "    doc_bin = proc_texts(text_id_tuples)\n",
    "    doc_bin.to_disk(spacy_file)\n",
    "docs = list(tqdm(doc_bin.get_docs(nlp.vocab), total=len(doc_bin)))"
   ]
  },
  {
   "cell_type": "code",
   "execution_count": 17,
   "id": "fcface25",
   "metadata": {},
   "outputs": [
    {
     "name": "stdout",
     "output_type": "stream",
     "text": [
      "['Claim', 'Evidence', 'Unannotated', 'Position', 'Concluding Statement', 'Lead', 'Counterclaim', 'Rebuttal']\n"
     ]
    }
   ],
   "source": [
    "discourse_types = persuade_corpus[['discourse_type']].copy()\n",
    "print([type for type in discourse_types.value_counts().index.get_level_values(0)])"
   ]
  },
  {
   "cell_type": "code",
   "execution_count": 20,
   "id": "bc275888-cc65-4e2d-9ea8-e8861f0ef75c",
   "metadata": {},
   "outputs": [],
   "source": [
    "# simple_texts_file = 'simple_texts_with_stops.pkl'\n",
    "\n",
    "simple_texts = [] # list of lists of strings\n",
    "for doc in docs:\n",
    "    new_doc = [t.lemma_ for t in doc if t.is_alpha]\n",
    "    simple_texts.append(new_doc)\n",
    "\n",
    "discourse_types['text'] = simple_texts"
   ]
  },
  {
   "cell_type": "code",
   "execution_count": null,
   "id": "228192be-a142-4827-80a1-dca07566b7dc",
   "metadata": {
    "tags": []
   },
   "outputs": [],
   "source": [
    "# for i in range(2,10):\n",
    "#     print(f'Number of discourse unit labels with {str(i)} or fewer tokens:')\n",
    "#     display(discourse_types[discourse_types['text'].apply(len) <= i]['discourse_type'].value_counts())\n",
    "#     print(f'Examples of discourse elements with exactly {str(i)} tokens:')\n",
    "#     display(discourse_types[(discourse_types['text'].apply(len) == i)]) #& (discourse_types['discourse_type'].str.match('Claim'))][:5])"
   ]
  },
  {
   "cell_type": "code",
   "execution_count": 48,
   "id": "27c16c6a-0c05-49a4-adf8-7f479731c9ec",
   "metadata": {},
   "outputs": [
    {
     "data": {
      "image/png": "[encoded data removed]",
      "text/plain": [
       "<Figure size 864x864 with 1 Axes>"
      ]
     },
     "metadata": {
      "needs_background": "light"
     },
     "output_type": "display_data"
    }
   ],
   "source": [
    "tuples = []\n",
    "total = discourse_types['discourse_type'].value_counts()\n",
    "for label, count in total.items():\n",
    "    tuples.append((label.replace(\" \", \"_\"), 31, count))\n",
    "    \n",
    "for i in range(1,30):\n",
    "    s = discourse_types[discourse_types['text'].apply(len) <= i]['discourse_type'].value_counts()\n",
    "    for label, count in s.items():\n",
    "        tuples.append((label.replace(\" \", \"_\"), i, count))\n",
    "\n",
    "data_loss = pd.DataFrame(tuples, columns=['label', 'max_tokens', 'count'])\n",
    "\n",
    "plt.rcParams[\"figure.figsize\"] = (12,12)\n",
    "ax = sns.lineplot(data=data_loss,x='max_tokens',y='count',hue='label')\n",
    "# sns.lineplot(data_loss)"
   ]
  },
  {
   "cell_type": "markdown",
   "id": "ab86eec1-10a4-4afe-a3be-35d200fdbb57",
   "metadata": {
    "tags": []
   },
   "source": [
    "## Cleaning\n",
    "Tried removing 2 and 10. 2 made little difference; 10 seemed overly aggressive.\n",
    "Now removing anything with fewer than 5 words. This costs about 100,000 words and gives us more meaningful document vectors."
   ]
  },
  {
   "cell_type": "code",
   "execution_count": 62,
   "id": "e6df4c9c-2d16-4993-b1ec-b2f1b5e411c6",
   "metadata": {},
   "outputs": [
    {
     "data": {
      "text/plain": [
       "10569558"
      ]
     },
     "metadata": {},
     "output_type": "display_data"
    },
    {
     "data": {
      "text/plain": [
       "10509421"
      ]
     },
     "metadata": {},
     "output_type": "display_data"
    },
    {
     "data": {
      "text/html": [
       "<div>\n",
       "<style scoped>\n",
       "    .dataframe tbody tr th:only-of-type {\n",
       "        vertical-align: middle;\n",
       "    }\n",
       "\n",
       "    .dataframe tbody tr th {\n",
       "        vertical-align: top;\n",
       "    }\n",
       "\n",
       "    .dataframe thead th {\n",
       "        text-align: right;\n",
       "    }\n",
       "</style>\n",
       "<table border=\"1\" class=\"dataframe\">\n",
       "  <thead>\n",
       "    <tr style=\"text-align: right;\">\n",
       "      <th></th>\n",
       "      <th>discourse_type</th>\n",
       "      <th>text</th>\n",
       "    </tr>\n",
       "  </thead>\n",
       "  <tbody>\n",
       "    <tr>\n",
       "      <th>1</th>\n",
       "      <td>Lead</td>\n",
       "      <td>[modern, human, today, be, always, on, their, ...</td>\n",
       "    </tr>\n",
       "    <tr>\n",
       "      <th>2</th>\n",
       "      <td>Position</td>\n",
       "      <td>[they, be, some, really, bad, consequence, whe...</td>\n",
       "    </tr>\n",
       "    <tr>\n",
       "      <th>3</th>\n",
       "      <td>Evidence</td>\n",
       "      <td>[some, certain, area, in, the, United, States,...</td>\n",
       "    </tr>\n",
       "    <tr>\n",
       "      <th>4</th>\n",
       "      <td>Evidence</td>\n",
       "      <td>[when, people, have, phone, they, know, about,...</td>\n",
       "    </tr>\n",
       "    <tr>\n",
       "      <th>5</th>\n",
       "      <td>Claim</td>\n",
       "      <td>[driving, be, one, of, the, way, how, to, get,...</td>\n",
       "    </tr>\n",
       "    <tr>\n",
       "      <th>...</th>\n",
       "      <td>...</td>\n",
       "      <td>...</td>\n",
       "    </tr>\n",
       "    <tr>\n",
       "      <th>285377</th>\n",
       "      <td>Unannotated</td>\n",
       "      <td>[next, it, can, change, your, perspective, on,...</td>\n",
       "    </tr>\n",
       "    <tr>\n",
       "      <th>285378</th>\n",
       "      <td>Evidence</td>\n",
       "      <td>[one, person, can, change, your, option, but, ...</td>\n",
       "    </tr>\n",
       "    <tr>\n",
       "      <th>285379</th>\n",
       "      <td>Unannotated</td>\n",
       "      <td>[finally, it, inform, you, about, what, other,...</td>\n",
       "    </tr>\n",
       "    <tr>\n",
       "      <th>285380</th>\n",
       "      <td>Evidence</td>\n",
       "      <td>[have, more, than, one, person, opinion, might...</td>\n",
       "    </tr>\n",
       "    <tr>\n",
       "      <th>285382</th>\n",
       "      <td>Concluding Statement</td>\n",
       "      <td>[find, more, than, one, persons, view, be, wel...</td>\n",
       "    </tr>\n",
       "  </tbody>\n",
       "</table>\n",
       "<p>250147 rows × 2 columns</p>\n",
       "</div>"
      ],
      "text/plain": [
       "              discourse_type  \\\n",
       "1                       Lead   \n",
       "2                   Position   \n",
       "3                   Evidence   \n",
       "4                   Evidence   \n",
       "5                      Claim   \n",
       "...                      ...   \n",
       "285377           Unannotated   \n",
       "285378              Evidence   \n",
       "285379           Unannotated   \n",
       "285380              Evidence   \n",
       "285382  Concluding Statement   \n",
       "\n",
       "                                                     text  \n",
       "1       [modern, human, today, be, always, on, their, ...  \n",
       "2       [they, be, some, really, bad, consequence, whe...  \n",
       "3       [some, certain, area, in, the, United, States,...  \n",
       "4       [when, people, have, phone, they, know, about,...  \n",
       "5       [driving, be, one, of, the, way, how, to, get,...  \n",
       "...                                                   ...  \n",
       "285377  [next, it, can, change, your, perspective, on,...  \n",
       "285378  [one, person, can, change, your, option, but, ...  \n",
       "285379  [finally, it, inform, you, about, what, other,...  \n",
       "285380  [have, more, than, one, person, opinion, might...  \n",
       "285382  [find, more, than, one, persons, view, be, wel...  \n",
       "\n",
       "[250147 rows x 2 columns]"
      ]
     },
     "metadata": {},
     "output_type": "display_data"
    }
   ],
   "source": [
    "elements = discourse_types[discourse_types['text'].apply(len) >= 5]\n",
    "display(sum(discourse_types['text'].apply(len)))\n",
    "display(sum(elements['text'].apply(len)))\n",
    "display(elements)"
   ]
  },
  {
   "cell_type": "code",
   "execution_count": 63,
   "id": "2e1a716c-0f1e-49b4-8535-50b93c3f44f9",
   "metadata": {},
   "outputs": [
    {
     "name": "stdout",
     "output_type": "stream",
     "text": [
      "\n",
      "Pared dataset:\n",
      "Claim                   78094\n",
      "Evidence                75574\n",
      "Position                25421\n",
      "Concluding Statement    22276\n",
      "Lead                    15074\n",
      "Name: discourse_type, dtype: int64\n"
     ]
    },
    {
     "data": {
      "text/html": [
       "<div>\n",
       "<style scoped>\n",
       "    .dataframe tbody tr th:only-of-type {\n",
       "        vertical-align: middle;\n",
       "    }\n",
       "\n",
       "    .dataframe tbody tr th {\n",
       "        vertical-align: top;\n",
       "    }\n",
       "\n",
       "    .dataframe thead th {\n",
       "        text-align: right;\n",
       "    }\n",
       "</style>\n",
       "<table border=\"1\" class=\"dataframe\">\n",
       "  <thead>\n",
       "    <tr style=\"text-align: right;\">\n",
       "      <th></th>\n",
       "      <th>discourse_type</th>\n",
       "      <th>text</th>\n",
       "    </tr>\n",
       "  </thead>\n",
       "  <tbody>\n",
       "    <tr>\n",
       "      <th>1</th>\n",
       "      <td>Lead</td>\n",
       "      <td>[modern, human, today, be, always, on, their, ...</td>\n",
       "    </tr>\n",
       "    <tr>\n",
       "      <th>2</th>\n",
       "      <td>Position</td>\n",
       "      <td>[they, be, some, really, bad, consequence, whe...</td>\n",
       "    </tr>\n",
       "    <tr>\n",
       "      <th>3</th>\n",
       "      <td>Evidence</td>\n",
       "      <td>[some, certain, area, in, the, United, States,...</td>\n",
       "    </tr>\n",
       "    <tr>\n",
       "      <th>4</th>\n",
       "      <td>Evidence</td>\n",
       "      <td>[when, people, have, phone, they, know, about,...</td>\n",
       "    </tr>\n",
       "    <tr>\n",
       "      <th>5</th>\n",
       "      <td>Claim</td>\n",
       "      <td>[driving, be, one, of, the, way, how, to, get,...</td>\n",
       "    </tr>\n",
       "    <tr>\n",
       "      <th>...</th>\n",
       "      <td>...</td>\n",
       "      <td>...</td>\n",
       "    </tr>\n",
       "    <tr>\n",
       "      <th>285374</th>\n",
       "      <td>Claim</td>\n",
       "      <td>[it, inform, you, about, what, other, people, ...</td>\n",
       "    </tr>\n",
       "    <tr>\n",
       "      <th>285376</th>\n",
       "      <td>Evidence</td>\n",
       "      <td>[one, opinion, of, a, person, might, destroy, ...</td>\n",
       "    </tr>\n",
       "    <tr>\n",
       "      <th>285378</th>\n",
       "      <td>Evidence</td>\n",
       "      <td>[one, person, can, change, your, option, but, ...</td>\n",
       "    </tr>\n",
       "    <tr>\n",
       "      <th>285380</th>\n",
       "      <td>Evidence</td>\n",
       "      <td>[have, more, than, one, person, opinion, might...</td>\n",
       "    </tr>\n",
       "    <tr>\n",
       "      <th>285382</th>\n",
       "      <td>Concluding Statement</td>\n",
       "      <td>[find, more, than, one, persons, view, be, wel...</td>\n",
       "    </tr>\n",
       "  </tbody>\n",
       "</table>\n",
       "<p>216439 rows × 2 columns</p>\n",
       "</div>"
      ],
      "text/plain": [
       "              discourse_type  \\\n",
       "1                       Lead   \n",
       "2                   Position   \n",
       "3                   Evidence   \n",
       "4                   Evidence   \n",
       "5                      Claim   \n",
       "...                      ...   \n",
       "285374                 Claim   \n",
       "285376              Evidence   \n",
       "285378              Evidence   \n",
       "285380              Evidence   \n",
       "285382  Concluding Statement   \n",
       "\n",
       "                                                     text  \n",
       "1       [modern, human, today, be, always, on, their, ...  \n",
       "2       [they, be, some, really, bad, consequence, whe...  \n",
       "3       [some, certain, area, in, the, United, States,...  \n",
       "4       [when, people, have, phone, they, know, about,...  \n",
       "5       [driving, be, one, of, the, way, how, to, get,...  \n",
       "...                                                   ...  \n",
       "285374  [it, inform, you, about, what, other, people, ...  \n",
       "285376  [one, opinion, of, a, person, might, destroy, ...  \n",
       "285378  [one, person, can, change, your, option, but, ...  \n",
       "285380  [have, more, than, one, person, opinion, might...  \n",
       "285382  [find, more, than, one, persons, view, be, wel...  \n",
       "\n",
       "[216439 rows x 2 columns]"
      ]
     },
     "metadata": {},
     "output_type": "display_data"
    }
   ],
   "source": [
    "# Looking at the counts, I want to try a simple paring procedure first\n",
    "# Nervous to combine counterclaim with claim and rebuttal with evidence\n",
    "# Polarity likely to be different -- could incur strange results\n",
    "# For now, just remove unannotated, counterclaim, rebuttal.\n",
    "\n",
    "excluded_labels = '|'.join(['Unannotated',\n",
    "                           'Counterclaim',\n",
    "                           'Rebuttal'])\n",
    "print('\\nPared dataset:')\n",
    "test = (elements[~elements['discourse_type'].str.match(excluded_labels)])\n",
    "print(test['discourse_type'].value_counts())\n",
    "elements = test\n",
    "display(elements)"
   ]
  },
  {
   "cell_type": "markdown",
   "id": "543d8adb-05ea-4e20-82d0-27ffe6a4869c",
   "metadata": {
    "jp-MarkdownHeadingCollapsed": true,
    "tags": []
   },
   "source": [
    "## Training Document Vectors"
   ]
  },
  {
   "cell_type": "code",
   "execution_count": 64,
   "id": "0bba4319-98a3-4701-b683-25a7643f9a34",
   "metadata": {},
   "outputs": [],
   "source": [
    "from sklearn.model_selection import train_test_split\n",
    "X_train, X_test, y_train, y_test = train_test_split(elements['text'], elements['discourse_type'], test_size=0.33, random_state=42)\n",
    "# display(X_train.iloc[[99]])\n",
    "# display(y_train.iloc[[99]])\n",
    "\n",
    "# for ind, item in enumerate(X_train[:5].iteritems()):\n",
    "#     print(item[0])\n",
    "#     print(item[1])\n",
    "#     print(y_train.iloc[ind])"
   ]
  },
  {
   "cell_type": "code",
   "execution_count": 65,
   "id": "872d2b5b",
   "metadata": {},
   "outputs": [],
   "source": [
    "def toks_to_tags(texts, labels):\n",
    "    '''\n",
    "    texts and labels must have matched indices\n",
    "    '''\n",
    "    for ind, text in enumerate(texts.iteritems()):\n",
    "        yield(gensim.models.doc2vec.TaggedDocument(text[1], [str(text[0])]))\n",
    "        # yield(gensim.models.doc2vec.TaggedDocument(text[1], [str(text[0]), labels.iloc[ind]]))\n",
    "\n",
    "train_corpus = list(toks_to_tags(X_train, y_train))\n",
    "test_corpus = list(toks_to_tags(X_test, y_test))"
   ]
  },
  {
   "cell_type": "code",
   "execution_count": 66,
   "id": "16181bdd",
   "metadata": {},
   "outputs": [
    {
     "name": "stdout",
     "output_type": "stream",
     "text": [
      "The size of the model's vocabulary is 20,498.\n",
      "Word 'phone' appeared 17687 times in the training corpus.\n"
     ]
    }
   ],
   "source": [
    "model = gensim.models.doc2vec.Doc2Vec(vector_size=100, min_count=2, epochs=75, workers=4)\n",
    "model.build_vocab(train_corpus)\n",
    "print(f\"The size of the model's vocabulary is {len(model.wv):,}.\")\n",
    "print(f\"Word 'phone' appeared {model.wv.get_vecattr('phone', 'count')} times in the training corpus.\")"
   ]
  },
  {
   "cell_type": "code",
   "execution_count": 67,
   "id": "c44b32b6",
   "metadata": {},
   "outputs": [
    {
     "name": "stdout",
     "output_type": "stream",
     "text": [
      "0:12:34\n"
     ]
    }
   ],
   "source": [
    "st = tm()\n",
    "model.train(train_corpus,\n",
    "            total_examples=model.corpus_count,\n",
    "            epochs=model.epochs)\n",
    "print(datetime.timedelta(seconds=round(tm()-st)))"
   ]
  },
  {
   "cell_type": "markdown",
   "id": "4f5aa77a-f469-4344-b441-6ff002c4c374",
   "metadata": {
    "jp-MarkdownHeadingCollapsed": true,
    "tags": []
   },
   "source": [
    "## Sanity checks"
   ]
  },
  {
   "cell_type": "code",
   "execution_count": 68,
   "id": "3095582d-87c4-4878-86fd-932687920908",
   "metadata": {},
   "outputs": [
    {
     "name": "stdout",
     "output_type": "stream",
     "text": [
      "The number of computed word vectors is... 20498\n",
      "The word vector for phone is...\n",
      "[ 1.7124335  -1.1361262  -1.2616229   1.2342081  -1.5391499   0.05046156\n",
      "  0.85787684 -1.442456   -0.98775357  0.16887935  1.8886021   1.1511071\n",
      "  0.68304205 -0.5450018  -0.297827   -0.9179942   0.12076015  0.6800315\n",
      " -0.7491615   0.03277365  0.26218262 -0.29879156  0.37283972  0.5867966\n",
      " -1.128925   -1.9353575   3.0641873   1.1637187   1.2719564   0.22442006\n",
      "  1.9964712  -1.6253396  -0.7347243   1.3173035   0.18670371 -0.03096761\n",
      " -0.63291526  1.342151    1.3295039   2.2882786   1.0582062  -1.1030662\n",
      "  0.95357096 -0.43697706 -1.5980642  -0.30063522 -0.06184153  0.7889357\n",
      " -0.6547678  -0.4907204   1.7826185   1.0628926  -1.0260106  -0.57753134\n",
      " -0.8089612   1.4385499   1.2607048  -0.9000962  -1.176277   -0.45551875\n",
      " -0.7914624  -0.6916918   1.3590461   0.7316486   1.9795136   2.0077355\n",
      " -0.78332096  1.332319   -1.3428117   0.298658    1.4110324   0.38307032\n",
      "  1.1986482  -0.15478772 -0.7562401  -0.37603143  0.28445765 -0.53876674\n",
      "  0.6212023  -1.6440355  -3.5708578  -1.7860421  -0.27100164 -1.552158\n",
      " -0.6149315   1.2217777   0.6410501   0.5915424  -1.1490479   0.35485747\n",
      " -0.2773156   0.00425346  0.41741997 -1.0852902   1.1148281  -0.08559224\n",
      " -2.6045165   2.0842893   1.0387325   1.4141631 ]\n",
      "\n",
      "Most similar words to phone:\n",
      "cellphone 0.83 -- device 0.74 -- skill 0.74 -- face 0.73 -- \n",
      "\n",
      "Most similar words to election:\n",
      "canidate 0.76 -- voting 0.76 -- candidate 0.76 -- vote 0.7 -- \n",
      "\n",
      "Most similar words to help:\n",
      "do 0.83 -- be 0.8 -- have 0.79 -- benefit 0.77 -- \n",
      "\n",
      "Most similar words to believe:\n",
      "think 0.92 -- know 0.76 -- realize 0.75 -- agree 0.74 -- \n",
      "\n",
      "Most similar words to argue:\n",
      "believe 0.67 -- say 0.63 -- tell 0.63 -- agree 0.62 -- \n",
      "\n",
      "Most similar words to car:\n",
      "vehicle 0.88 -- driver 0.74 -- cellphone 0.73 -- road 0.71 -- \n",
      "\n",
      "Most similar words to drive:\n",
      "play 0.7 -- accident 0.69 -- do 0.69 -- communicate 0.69 -- \n",
      "\n",
      "We also have paragraph or document vectors\n",
      "The word vector for discourse element 1 is..\n",
      "because teacher can challenge their student \n",
      "[-2.79838502e-01 -3.25390518e-01 -4.23423760e-02  4.30286318e-01\n",
      "  7.39518285e-01  4.07273501e-01 -1.23237692e-01  7.13270009e-02\n",
      " -5.91029264e-02  2.64315516e-01  4.74730819e-01  1.80659205e-01\n",
      " -2.27569431e-01 -3.33557390e-02  2.03619212e-01  4.28743921e-02\n",
      " -4.37698513e-01  2.67070323e-01  1.18707642e-02 -3.06506664e-01\n",
      " -4.93835360e-01  1.15233529e+00 -4.51959133e-01  2.53633261e-01\n",
      " -6.75408617e-02  2.42124423e-01 -1.52489260e-01 -2.23955348e-01\n",
      " -7.92233884e-01  3.78541321e-01 -1.20443292e-01  2.10469425e-01\n",
      " -3.68078828e-01 -1.63370758e-01  5.77807963e-01  4.76490259e-01\n",
      " -1.74646005e-01 -7.36949742e-02  6.39693201e-01  2.95106590e-01\n",
      " -4.75371420e-01 -2.79104173e-01 -3.87401044e-01  6.00683456e-03\n",
      " -1.62386984e-01 -6.31175786e-02  3.99929017e-01  5.37649870e-01\n",
      "  1.09186582e-01 -6.32387474e-02 -4.38422203e-01  3.60309094e-01\n",
      "  1.17443874e-01  4.36513752e-01 -8.67283195e-02  1.00589909e-01\n",
      "  1.34454906e-01  1.93336472e-01 -4.26931540e-03  3.17925550e-02\n",
      "  1.46060929e-01 -3.09298217e-01 -2.36301497e-01 -1.84035718e-01\n",
      "  3.75719517e-01 -1.52496964e-01  7.74636090e-01  7.88048148e-01\n",
      "  8.23669970e-01 -2.53684103e-01  2.04378083e-01  9.89255726e-01\n",
      "  1.07015982e-01 -7.22004324e-02 -2.71840155e-01 -1.79273203e-01\n",
      " -6.42682791e-01 -3.77903134e-01  1.07460713e+00  3.59466016e-01\n",
      " -3.95803362e-01 -7.98679471e-01 -1.35688752e-01  9.39550519e-04\n",
      "  1.53314561e-01  4.93843295e-02 -2.03302085e-01 -7.51113474e-01\n",
      " -4.13332954e-02 -1.91229939e-01 -8.64202440e-01  1.97562594e-02\n",
      " -2.48139977e-01  1.18787661e-01  2.91153677e-02 -8.53650510e-01\n",
      " -1.67897403e-01 -1.11353040e-01 -2.59201765e-01  7.99639598e-02]\n",
      "\n"
     ]
    }
   ],
   "source": [
    "print('The number of computed word vectors is...', len(model.wv))\n",
    "word_vectors = model.wv\n",
    "print('The word vector for phone is...')\n",
    "print(word_vectors['phone'])\n",
    "\n",
    "diag_words = ['phone', 'election', 'help', 'believe', 'argue', 'car', 'drive']\n",
    "\n",
    "def simmer(diag_words, num_results):\n",
    "    print()\n",
    "    for word in diag_words:\n",
    "        print(f'Most similar words to {word}:')\n",
    "        for sim_word, score in word_vectors.most_similar(positive=[word])[:num_results]:\n",
    "            print(sim_word, round(score, 2), end=' -- ')\n",
    "        print('\\n')\n",
    "        \n",
    "simmer(diag_words, 4)\n",
    "\n",
    "print('We also have paragraph or document vectors')\n",
    "print('The word vector for discourse element 1 is..')\n",
    "[print(word, end=' ') for word in X_train.iat[1]]\n",
    "print()\n",
    "print(model.dv[1])\n",
    "print()\n",
    "\n",
    "# print('We also have keyed vectors that are similar to document vectors but represent a label')\n",
    "# print('The keyed vector for Claim is...')\n",
    "# print(model.dv['Claim'])"
   ]
  },
  {
   "cell_type": "markdown",
   "id": "715d7b8c-0ea8-49dc-80ac-602cbe912ea0",
   "metadata": {
    "tags": []
   },
   "source": [
    "## Evaluating Vectors"
   ]
  },
  {
   "cell_type": "code",
   "execution_count": 69,
   "id": "4b1e5773-a73c-4378-8e6f-3adcc0a19134",
   "metadata": {},
   "outputs": [],
   "source": [
    "def diagnosticator(X_test, y_test, X_train, y_train, debug=False):\n",
    "    y_pred = []\n",
    "    y_true = []\n",
    "    for ind, doc in tqdm(X_test.iteritems(), total=len(X_test)):\n",
    "        inferred_vector = model.infer_vector(doc)\n",
    "        pred = int(model.dv.similar_by_vector(inferred_vector, topn=1)[0][0])\n",
    "        if debug:\n",
    "            print(f'True: {y_test.at[ind]}')\n",
    "            print('Unseen text:', end='  ')\n",
    "            [print(word, end=' ') for word in doc]\n",
    "            print()\n",
    "        if type(pred) == int:\n",
    "            pred_label = y_train.at[pred]\n",
    "            if debug:\n",
    "                print('Most similar text:', end='  ')\n",
    "                [print(word, end=' ') for word in X_train[pred]]\n",
    "                print()\n",
    "                print(f'Predicted: {pred_label}')\n",
    "                print('---')\n",
    "        elif type(pred) == str:\n",
    "            pred_label = pred\n",
    "            if debug:\n",
    "                print(f'Most similar to keyed vector: {pred}')\n",
    "                print('---')\n",
    "\n",
    "        y_true.append(y_test.at[ind])\n",
    "        y_pred.append(pred_label)\n",
    "    return y_true, y_pred"
   ]
  },
  {
   "cell_type": "code",
   "execution_count": 70,
   "id": "4e04bfde-9add-46c3-a561-0f51d4a3e576",
   "metadata": {},
   "outputs": [
    {
     "name": "stderr",
     "output_type": "stream",
     "text": [
      "100%|██████████| 5/5 [00:00<00:00, 52.67it/s]"
     ]
    },
    {
     "name": "stdout",
     "output_type": "stream",
     "text": [
      "True: Claim\n",
      "Unseen text:  one advantage of limit car usage be you do nt have to pay gasoline anymore \n",
      "Most similar text:  one advantage of limit car usage be that there would be less pollution \n",
      "Predicted: Claim\n",
      "---\n",
      "True: Evidence\n",
      "Unseen text:  homework be almost always give to student to test their knowledge and what they learn this be a lead factor in be busy and unable to be part of a after school activity church or non school relate event also make extracurricular activity more difficult to be a part of family time and curfew also relate to unavailability for after school event \n",
      "Most similar text:  student usually have to bring their phone to school mainly for after school activity \n",
      "Predicted: Claim\n",
      "---\n",
      "True: Claim\n",
      "Unseen text:  the author support the idea with fact and more idea that would make it safe and beneficial to we if we travel to Venus for further examination \n",
      "Most similar text:  it would be safe and beneficial \n",
      "Predicted: Claim\n",
      "---\n",
      "True: Claim\n",
      "Unseen text:  some people may wonder about the experience and commitment of the Seagoing Cowboys it be an outstanding experience for anyone \n",
      "Most similar text:  so community service be an awesome experience for anyone \n",
      "Predicted: Claim\n",
      "---\n",
      "True: Lead\n",
      "Unseen text:  do you believe in alien in the Viking spacecraft of NASA discover an eery landform that look like a human face some people mainly conspiracy theorist believe it be a sign of extraterestial life on Mars while scientist like I be find more and more reason to explain this strange phenomenom today I be only go to explain a few \n",
      "Most similar text:  year ago on mars NASA catch a picture of a huge rock formation that look like a face many think it be evidence of life on mars while scientist think it be just another a natural landform \n",
      "Predicted: Lead\n",
      "---\n"
     ]
    },
    {
     "name": "stderr",
     "output_type": "stream",
     "text": [
      "\n"
     ]
    }
   ],
   "source": [
    "x, y = diagnosticator(X_test=X_test[:5],\n",
    "                      y_test=y_test,\n",
    "                      X_train=X_train,\n",
    "                      y_train=y_train,\n",
    "                      debug=True)"
   ]
  },
  {
   "cell_type": "code",
   "execution_count": 71,
   "id": "26ca0bc0-d139-4432-8811-4b4fbf592bdb",
   "metadata": {},
   "outputs": [
    {
     "name": "stderr",
     "output_type": "stream",
     "text": [
      "100%|██████████| 1000/1000 [00:06<00:00, 148.87it/s]\n"
     ]
    }
   ],
   "source": [
    "y_true, y_pred = diagnosticator(X_test=X_test[:1000],\n",
    "                                y_test=y_test,\n",
    "                                X_train=X_train,\n",
    "                                y_train=y_train)"
   ]
  },
  {
   "cell_type": "code",
   "execution_count": 74,
   "id": "aa54c24f-e558-4841-9f3f-b69cb0acc9dd",
   "metadata": {},
   "outputs": [
    {
     "name": "stdout",
     "output_type": "stream",
     "text": [
      "                      precision    recall  f1-score   support\n",
      "\n",
      "               Claim       0.51      0.64      0.57       362\n",
      "Concluding Statement       0.32      0.16      0.21       114\n",
      "            Evidence       0.64      0.47      0.54       331\n",
      "                Lead       0.36      0.32      0.34        73\n",
      "            Position       0.36      0.54      0.43       120\n",
      "\n",
      "            accuracy                           0.49      1000\n",
      "           macro avg       0.44      0.43      0.42      1000\n",
      "        weighted avg       0.50      0.49      0.49      1000\n",
      "\n"
     ]
    },
    {
     "data": {
      "image/png": "[encoded data removed]",
      "text/plain": [
       "<Figure size 864x720 with 2 Axes>"
      ]
     },
     "metadata": {
      "needs_background": "light"
     },
     "output_type": "display_data"
    }
   ],
   "source": [
    "from sklearn.neighbors import KNeighborsClassifier\n",
    "from sklearn.svm import LinearSVC, NuSVC\n",
    "from sklearn.ensemble import RandomForestClassifier, AdaBoostClassifier, GradientBoostingClassifier\n",
    "from sklearn.naive_bayes import GaussianNB\n",
    "from sklearn.discriminant_analysis import LinearDiscriminantAnalysis\n",
    "from sklearn.discriminant_analysis import QuadraticDiscriminantAnalysis\n",
    "from sklearn.metrics import ConfusionMatrixDisplay, classification_report\n",
    "\n",
    "print(classification_report(y_true, y_pred))\n",
    "plt.rcParams[\"figure.figsize\"] = (12,10)\n",
    "ConfusionMatrixDisplay.from_predictions(y_true, y_pred, normalize='true')\n",
    "plt.show()"
   ]
  },
  {
   "cell_type": "markdown",
   "id": "5c9acf5f-e96c-4a9a-bb0d-a869de00cf6f",
   "metadata": {
    "tags": []
   },
   "source": [
    "## Modelling"
   ]
  },
  {
   "cell_type": "code",
   "execution_count": 75,
   "id": "e45b4f47-d98c-4cf6-bc7f-9c620c201c86",
   "metadata": {},
   "outputs": [
    {
     "name": "stderr",
     "output_type": "stream",
     "text": [
      "100%|██████████| 145014/145014 [00:00<00:00, 157496.88it/s]\n",
      "100%|██████████| 71425/71425 [04:09<00:00, 286.09it/s]\n"
     ]
    }
   ],
   "source": [
    "# X_train_log = np.array([model.dv[i] for i in range(len(model.dv))])\n",
    "def vector_retrieval(model, labels, input_docs):\n",
    "    targets, feature_vectors = zip(*[(labels.at[int(doc.tags[0])], model[doc.tags[0]]) for doc in input_docs])\n",
    "    return targets, feature_vectors\n",
    "def vector_inference(model, labels, input_docs):\n",
    "    targets, feature_vectors = zip(*[(labels.at[int(doc.tags[0])], model.infer_vector(doc.words, steps=20)) for doc in input_docs])\n",
    "    return targets, feature_vectors\n",
    "\n",
    "y_cls_train, X_cls_train = vector_retrieval(model, y_train, tqdm(train_corpus))\n",
    "y_cls_test, X_cls_test = vector_inference(model, y_test, tqdm(test_corpus))"
   ]
  },
  {
   "cell_type": "code",
   "execution_count": 78,
   "id": "07a2a0f0-eca0-4e9f-8b0a-60b68378d16f",
   "metadata": {},
   "outputs": [
    {
     "name": "stdout",
     "output_type": "stream",
     "text": [
      "Linear Discriminant Analysis\n",
      "                      precision    recall  f1-score   support\n",
      "\n",
      "               Claim       0.62      0.56      0.59     25897\n",
      "Concluding Statement       0.30      0.60      0.40      7200\n",
      "            Evidence       0.56      0.67      0.61     24867\n",
      "                Lead       0.38      0.25      0.30      4986\n",
      "            Position       0.46      0.04      0.07      8475\n",
      "\n",
      "            accuracy                           0.52     71425\n",
      "           macro avg       0.46      0.42      0.39     71425\n",
      "        weighted avg       0.53      0.52      0.50     71425\n",
      "\n",
      "0:00:03\n"
     ]
    },
    {
     "data": {
      "image/png": "[encoded data removed]",
      "text/plain": [
       "<Figure size 864x720 with 2 Axes>"
      ]
     },
     "metadata": {
      "needs_background": "light"
     },
     "output_type": "display_data"
    },
    {
     "name": "stdout",
     "output_type": "stream",
     "text": [
      "LinearSVC\n"
     ]
    },
    {
     "name": "stderr",
     "output_type": "stream",
     "text": [
      "/opt/conda/lib/python3.9/site-packages/sklearn/svm/_base.py:1206: ConvergenceWarning: Liblinear failed to converge, increase the number of iterations.\n",
      "  warnings.warn(\n"
     ]
    },
    {
     "name": "stdout",
     "output_type": "stream",
     "text": [
      "                      precision    recall  f1-score   support\n",
      "\n",
      "               Claim       0.67      0.48      0.56     25897\n",
      "Concluding Statement       0.24      0.68      0.35      7200\n",
      "            Evidence       0.61      0.60      0.61     24867\n",
      "                Lead       0.29      0.33      0.31      4986\n",
      "            Position       0.42      0.09      0.14      8475\n",
      "\n",
      "            accuracy                           0.49     71425\n",
      "           macro avg       0.45      0.44      0.39     71425\n",
      "        weighted avg       0.55      0.49      0.49     71425\n",
      "\n",
      "0:05:20\n"
     ]
    },
    {
     "data": {
      "image/png": "[encoded data removed]",
      "text/plain": [
       "<Figure size 864x720 with 2 Axes>"
      ]
     },
     "metadata": {
      "needs_background": "light"
     },
     "output_type": "display_data"
    }
   ],
   "source": [
    "dict_of_classifiers = {#\"3-Neighbors Classifier\":KNeighborsClassifier(n_neighbors=3),\n",
    "                       #\"Random Forest Classifier\": RandomForestClassifier(),\n",
    "                       \"Linear Discriminant Analysis\": LinearDiscriminantAnalysis(),\n",
    "                       \"LinearSVC\": LinearSVC(class_weight='balanced'),\n",
    "                       #\"AdaBoost Classifier\": AdaBoostClassifier(),\n",
    "                        }\n",
    "\n",
    "for name, classifier in dict_of_classifiers.items():\n",
    "    print(name)\n",
    "    st = tm()\n",
    "    classifier.fit(X_cls_train, y_cls_train)\n",
    "    y_cls_pred = classifier.predict(X_cls_test)\n",
    "    print(classification_report(y_cls_test, y_cls_pred))\n",
    "    print(datetime.timedelta(seconds=round(tm()-st)))\n",
    "    ConfusionMatrixDisplay.from_predictions(y_cls_test, y_cls_pred)\n",
    "    plt.show()"
   ]
  }
 ],
 "metadata": {
  "kernelspec": {
   "display_name": "Python 3 (ipykernel)",
   "language": "python",
   "name": "python3"
  },
  "language_info": {
   "codemirror_mode": {
    "name": "ipython",
    "version": 3
   },
   "file_extension": ".py",
   "mimetype": "text/x-python",
   "name": "python",
   "nbconvert_exporter": "python",
   "pygments_lexer": "ipython3",
   "version": "3.9.7"
  }
 },
 "nbformat": 4,
 "nbformat_minor": 5
}
