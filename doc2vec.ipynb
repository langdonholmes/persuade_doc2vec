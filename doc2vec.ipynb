{
 "cells": [
  {
   "cell_type": "markdown",
   "id": "7d190844-4015-4c8d-a070-b025dc2ee940",
   "metadata": {
    "tags": []
   },
   "source": [
    "# Using document vectors to predict discourse element labels in argumentative student essays\n",
    "\n",
    "- [x] Do word2vec first into matrix/dataframe. Check cosine similarities/semantic similarities of sentences.\n",
    "- [x] Request COCA preloaded vector matrix\n",
    "\n",
    "- [x] Get word count: 10,569,558 (raw) - 10,552,942 (elements with 2 or more tokens)\n",
    "- [x] Lemmatize before creating Vocab [Maybe this helped? Hard to say.]\n",
    "- [x] For diagnostic purposes: Get 10 or so discourse elements that are clearly similar and verify that the model agrees that they are similar. [Results look pretty good]\n",
    "\n",
    "- [x] Throw it at an RF Classifier.\n",
    "\n",
    "- [ ] Combine discourse elements like rebuttal and evidence. Also remove unannotated.\n",
    "- [ ] Look for classifiers that work well with unbalanced labels. Multinomial Logistic Regression?\n",
    "\n",
    "- [ ] Think about eventually comparing results with spelling corrected and original versions. Might use neurSpell for this.\n",
    "\n",
    "## Langdon's thoughts\n",
    "\n",
    "We may see better results if we include contextual information as well. \n",
    "\n",
    "We might try an essay-level document vector as well as a discourse-element-level vector. It should be possible to concatenate or average these vectors in a meaningful way, but I would need to look into the details.\n",
    "\n",
    "Positional information might also be useful. Again, I'm not sure exactly how this sort of information is embedded into a vector, but I think there are methods available."
   ]
  },
  {
   "cell_type": "markdown",
   "id": "eea40c21-26bb-4311-8691-76fb63a4de46",
   "metadata": {
    "jp-MarkdownHeadingCollapsed": true,
    "tags": []
   },
   "source": [
    "## Import statements"
   ]
  },
  {
   "cell_type": "code",
   "execution_count": 6,
   "id": "ffc0e3c6",
   "metadata": {
    "tags": []
   },
   "outputs": [],
   "source": [
    "import os.path # Directories, gotta have em.\n",
    "import pickle # Better than .csv + a cute name.\n",
    "import pandas as pd # DataFrames. Looping is easy. Obscure functions are fast.\n",
    "import numpy as np # do math on vectors with more obscure functions.\n",
    "import re # one-way encryption for your codebase\n",
    "import pathlib\n",
    "from scipy import stats\n",
    "\n",
    "import matplotlib.pyplot as plt\n",
    "import seaborn as sns\n",
    "\n",
    "# Interactive Computing\n",
    "from timeit import default_timer as tm\n",
    "import datetime\n",
    "from tqdm import tqdm\n",
    "\n",
    "# Spacy\n",
    "import spacy\n",
    "from spacy.tokens import Doc, DocBin\n",
    "nlp = spacy.load('en_core_web_trf')\n",
    "\n",
    "if not Doc.has_extension('name'):\n",
    "    Doc.set_extension('name', default=None)\n",
    "\n",
    "import gensim"
   ]
  },
  {
   "cell_type": "markdown",
   "id": "49350b09-a91c-46ba-ad58-652d7ea3863a",
   "metadata": {
    "jp-MarkdownHeadingCollapsed": true,
    "tags": []
   },
   "source": [
    "## Exploration"
   ]
  },
  {
   "cell_type": "code",
   "execution_count": 2,
   "id": "68cc177a",
   "metadata": {},
   "outputs": [
    {
     "data": {
      "text/plain": [
       "0         423A1CA112E2\n",
       "1         423A1CA112E2\n",
       "2         423A1CA112E2\n",
       "3         423A1CA112E2\n",
       "4         423A1CA112E2\n",
       "              ...     \n",
       "285378    DF920E0A7337\n",
       "285379    DF920E0A7337\n",
       "285380    DF920E0A7337\n",
       "285381    DF920E0A7337\n",
       "285382    DF920E0A7337\n",
       "Name: essay_id_comp, Length: 285383, dtype: object"
      ]
     },
     "metadata": {},
     "output_type": "display_data"
    }
   ],
   "source": [
    "persuade_corpus = pd.read_pickle('persuade_corpus_full.pkl')\n",
    "display(persuade_corpus.essay_id_comp)"
   ]
  },
  {
   "cell_type": "code",
   "execution_count": 3,
   "id": "48283541",
   "metadata": {},
   "outputs": [
    {
     "name": "stderr",
     "output_type": "stream",
     "text": [
      "100%|██████████| 285383/285383 [01:23<00:00, 3435.15it/s]\n"
     ]
    }
   ],
   "source": [
    "spacy_file = 'persuade.spacy'\n",
    "\n",
    "def proc_texts(text_tuples):\n",
    "    doc_bin = DocBin(attrs=[\"ORTH\", \"TAG\", \"HEAD\", \"DEP\", \"LEMMA\", \"MORPH\", \"POS\"], store_user_data=True)\n",
    "    for doc, name in nlp.pipe(text_tuples, as_tuples=True):\n",
    "        doc._.trf_data = None\n",
    "        doc._.name = name\n",
    "#         doc.cats = {} # I can use this to store categories for spacy text categorization later on.\n",
    "        doc_bin.add(doc)\n",
    "    return doc_bin\n",
    "\n",
    "if os.path.isfile(spacy_file):\n",
    "    doc_bin = DocBin().from_disk(spacy_file)\n",
    "else:\n",
    "    doc_bin = proc_texts(text_id_tuples)\n",
    "    doc_bin.to_disk(spacy_file)\n",
    "docs = list(tqdm(doc_bin.get_docs(nlp.vocab), total=len(doc_bin)))"
   ]
  },
  {
   "cell_type": "code",
   "execution_count": 17,
   "id": "fcface25",
   "metadata": {},
   "outputs": [
    {
     "name": "stdout",
     "output_type": "stream",
     "text": [
      "['Claim', 'Evidence', 'Unannotated', 'Position', 'Concluding Statement', 'Lead', 'Counterclaim', 'Rebuttal']\n"
     ]
    }
   ],
   "source": [
    "discourse_types = persuade_corpus[['discourse_type']].copy()\n",
    "print([type for type in discourse_types.value_counts().index.get_level_values(0)])"
   ]
  },
  {
   "cell_type": "code",
   "execution_count": 20,
   "id": "bc275888-cc65-4e2d-9ea8-e8861f0ef75c",
   "metadata": {},
   "outputs": [],
   "source": [
    "simple_texts_file = 'simple_texts_with_stops.pkl'\n",
    "\n",
    "simple_texts = [] # list of lists of strings\n",
    "for doc in docs:\n",
    "    new_doc = [t.lemma_ for t in doc if t.is_alpha]\n",
    "    simple_texts.append(new_doc)\n",
    "\n",
    "discourse_types['text'] = simple_texts"
   ]
  },
  {
   "cell_type": "code",
   "execution_count": 6,
   "id": "228192be-a142-4827-80a1-dca07566b7dc",
   "metadata": {
    "collapsed": true,
    "jupyter": {
     "outputs_hidden": true,
     "source_hidden": true
    },
    "tags": []
   },
   "outputs": [
    {
     "name": "stdout",
     "output_type": "stream",
     "text": [
      "Number of discourse unit labels with 2 or fewer tokens:\n"
     ]
    },
    {
     "data": {
      "text/plain": [
       "Unannotated             25960\n",
       "Claim                    1484\n",
       "Position                   45\n",
       "Rebuttal                    7\n",
       "Lead                        4\n",
       "Counterclaim                3\n",
       "Evidence                    2\n",
       "Concluding Statement        1\n",
       "Name: discourse_type, dtype: int64"
      ]
     },
     "metadata": {},
     "output_type": "display_data"
    },
    {
     "name": "stdout",
     "output_type": "stream",
     "text": [
      "Examples of discourse elements with exactly 2 tokens:\n"
     ]
    },
    {
     "data": {
      "text/html": [
       "<div>\n",
       "<style scoped>\n",
       "    .dataframe tbody tr th:only-of-type {\n",
       "        vertical-align: middle;\n",
       "    }\n",
       "\n",
       "    .dataframe tbody tr th {\n",
       "        vertical-align: top;\n",
       "    }\n",
       "\n",
       "    .dataframe thead th {\n",
       "        text-align: right;\n",
       "    }\n",
       "</style>\n",
       "<table border=\"1\" class=\"dataframe\">\n",
       "  <thead>\n",
       "    <tr style=\"text-align: right;\">\n",
       "      <th></th>\n",
       "      <th>discourse_type</th>\n",
       "      <th>text</th>\n",
       "    </tr>\n",
       "  </thead>\n",
       "  <tbody>\n",
       "    <tr>\n",
       "      <th>28</th>\n",
       "      <td>Unannotated</td>\n",
       "      <td>[phone, driving]</td>\n",
       "    </tr>\n",
       "    <tr>\n",
       "      <th>188</th>\n",
       "      <td>Unannotated</td>\n",
       "      <td>[phone, driving]</td>\n",
       "    </tr>\n",
       "    <tr>\n",
       "      <th>213</th>\n",
       "      <td>Unannotated</td>\n",
       "      <td>[explain, why]</td>\n",
       "    </tr>\n",
       "    <tr>\n",
       "      <th>278</th>\n",
       "      <td>Unannotated</td>\n",
       "      <td>[because, of]</td>\n",
       "    </tr>\n",
       "    <tr>\n",
       "      <th>295</th>\n",
       "      <td>Unannotated</td>\n",
       "      <td>[in, conclusion]</td>\n",
       "    </tr>\n",
       "    <tr>\n",
       "      <th>...</th>\n",
       "      <td>...</td>\n",
       "      <td>...</td>\n",
       "    </tr>\n",
       "    <tr>\n",
       "      <th>285268</th>\n",
       "      <td>Claim</td>\n",
       "      <td>[more, experienced]</td>\n",
       "    </tr>\n",
       "    <tr>\n",
       "      <th>285309</th>\n",
       "      <td>Unannotated</td>\n",
       "      <td>[of, course]</td>\n",
       "    </tr>\n",
       "    <tr>\n",
       "      <th>285332</th>\n",
       "      <td>Claim</td>\n",
       "      <td>[make, change]</td>\n",
       "    </tr>\n",
       "    <tr>\n",
       "      <th>285366</th>\n",
       "      <td>Unannotated</td>\n",
       "      <td>[in, conclusion]</td>\n",
       "    </tr>\n",
       "    <tr>\n",
       "      <th>285381</th>\n",
       "      <td>Unannotated</td>\n",
       "      <td>[in, conclusion]</td>\n",
       "    </tr>\n",
       "  </tbody>\n",
       "</table>\n",
       "<p>8352 rows × 2 columns</p>\n",
       "</div>"
      ],
      "text/plain": [
       "       discourse_type                 text\n",
       "28        Unannotated     [phone, driving]\n",
       "188       Unannotated     [phone, driving]\n",
       "213       Unannotated       [explain, why]\n",
       "278       Unannotated        [because, of]\n",
       "295       Unannotated     [in, conclusion]\n",
       "...               ...                  ...\n",
       "285268          Claim  [more, experienced]\n",
       "285309    Unannotated         [of, course]\n",
       "285332          Claim       [make, change]\n",
       "285366    Unannotated     [in, conclusion]\n",
       "285381    Unannotated     [in, conclusion]\n",
       "\n",
       "[8352 rows x 2 columns]"
      ]
     },
     "metadata": {},
     "output_type": "display_data"
    },
    {
     "name": "stdout",
     "output_type": "stream",
     "text": [
      "Number of discourse unit labels with 3 or fewer tokens:\n"
     ]
    },
    {
     "data": {
      "text/plain": [
       "Unannotated             28714\n",
       "Claim                    2731\n",
       "Position                   99\n",
       "Rebuttal                   36\n",
       "Lead                       12\n",
       "Counterclaim               12\n",
       "Evidence                    4\n",
       "Concluding Statement        1\n",
       "Name: discourse_type, dtype: int64"
      ]
     },
     "metadata": {},
     "output_type": "display_data"
    },
    {
     "name": "stdout",
     "output_type": "stream",
     "text": [
      "Examples of discourse elements with exactly 3 tokens:\n"
     ]
    },
    {
     "data": {
      "text/html": [
       "<div>\n",
       "<style scoped>\n",
       "    .dataframe tbody tr th:only-of-type {\n",
       "        vertical-align: middle;\n",
       "    }\n",
       "\n",
       "    .dataframe tbody tr th {\n",
       "        vertical-align: top;\n",
       "    }\n",
       "\n",
       "    .dataframe thead th {\n",
       "        text-align: right;\n",
       "    }\n",
       "</style>\n",
       "<table border=\"1\" class=\"dataframe\">\n",
       "  <thead>\n",
       "    <tr style=\"text-align: right;\">\n",
       "      <th></th>\n",
       "      <th>discourse_type</th>\n",
       "      <th>text</th>\n",
       "    </tr>\n",
       "  </thead>\n",
       "  <tbody>\n",
       "    <tr>\n",
       "      <th>52</th>\n",
       "      <td>Unannotated</td>\n",
       "      <td>[phone, and, drive]</td>\n",
       "    </tr>\n",
       "    <tr>\n",
       "      <th>71</th>\n",
       "      <td>Unannotated</td>\n",
       "      <td>[phone, and, drive]</td>\n",
       "    </tr>\n",
       "    <tr>\n",
       "      <th>90</th>\n",
       "      <td>Claim</td>\n",
       "      <td>[slow, reaction, time]</td>\n",
       "    </tr>\n",
       "    <tr>\n",
       "      <th>91</th>\n",
       "      <td>Claim</td>\n",
       "      <td>[and, fatal, injury]</td>\n",
       "    </tr>\n",
       "    <tr>\n",
       "      <th>100</th>\n",
       "      <td>Unannotated</td>\n",
       "      <td>[texte, and, drive]</td>\n",
       "    </tr>\n",
       "    <tr>\n",
       "      <th>...</th>\n",
       "      <td>...</td>\n",
       "      <td>...</td>\n",
       "    </tr>\n",
       "    <tr>\n",
       "      <th>285219</th>\n",
       "      <td>Unannotated</td>\n",
       "      <td>[another, reason, be]</td>\n",
       "    </tr>\n",
       "    <tr>\n",
       "      <th>285299</th>\n",
       "      <td>Unannotated</td>\n",
       "      <td>[nd, also, because]</td>\n",
       "    </tr>\n",
       "    <tr>\n",
       "      <th>285305</th>\n",
       "      <td>Unannotated</td>\n",
       "      <td>[in, my, experience]</td>\n",
       "    </tr>\n",
       "    <tr>\n",
       "      <th>285329</th>\n",
       "      <td>Claim</td>\n",
       "      <td>[keep, you, safe]</td>\n",
       "    </tr>\n",
       "    <tr>\n",
       "      <th>285347</th>\n",
       "      <td>Unannotated</td>\n",
       "      <td>[first, and, foremost]</td>\n",
       "    </tr>\n",
       "  </tbody>\n",
       "</table>\n",
       "<p>4103 rows × 2 columns</p>\n",
       "</div>"
      ],
      "text/plain": [
       "       discourse_type                    text\n",
       "52        Unannotated     [phone, and, drive]\n",
       "71        Unannotated     [phone, and, drive]\n",
       "90              Claim  [slow, reaction, time]\n",
       "91              Claim    [and, fatal, injury]\n",
       "100       Unannotated     [texte, and, drive]\n",
       "...               ...                     ...\n",
       "285219    Unannotated   [another, reason, be]\n",
       "285299    Unannotated     [nd, also, because]\n",
       "285305    Unannotated    [in, my, experience]\n",
       "285329          Claim       [keep, you, safe]\n",
       "285347    Unannotated  [first, and, foremost]\n",
       "\n",
       "[4103 rows x 2 columns]"
      ]
     },
     "metadata": {},
     "output_type": "display_data"
    },
    {
     "name": "stdout",
     "output_type": "stream",
     "text": [
      "Number of discourse unit labels with 4 or fewer tokens:\n"
     ]
    },
    {
     "data": {
      "text/plain": [
       "Unannotated             30308\n",
       "Claim                    4490\n",
       "Position                  248\n",
       "Rebuttal                  100\n",
       "Counterclaim               45\n",
       "Lead                       24\n",
       "Evidence                   14\n",
       "Concluding Statement        7\n",
       "Name: discourse_type, dtype: int64"
      ]
     },
     "metadata": {},
     "output_type": "display_data"
    },
    {
     "name": "stdout",
     "output_type": "stream",
     "text": [
      "Examples of discourse elements with exactly 4 tokens:\n"
     ]
    },
    {
     "data": {
      "text/html": [
       "<div>\n",
       "<style scoped>\n",
       "    .dataframe tbody tr th:only-of-type {\n",
       "        vertical-align: middle;\n",
       "    }\n",
       "\n",
       "    .dataframe tbody tr th {\n",
       "        vertical-align: top;\n",
       "    }\n",
       "\n",
       "    .dataframe thead th {\n",
       "        text-align: right;\n",
       "    }\n",
       "</style>\n",
       "<table border=\"1\" class=\"dataframe\">\n",
       "  <thead>\n",
       "    <tr style=\"text-align: right;\">\n",
       "      <th></th>\n",
       "      <th>discourse_type</th>\n",
       "      <th>text</th>\n",
       "    </tr>\n",
       "  </thead>\n",
       "  <tbody>\n",
       "    <tr>\n",
       "      <th>13</th>\n",
       "      <td>Claim</td>\n",
       "      <td>[be, because, bad, wreck]</td>\n",
       "    </tr>\n",
       "    <tr>\n",
       "      <th>15</th>\n",
       "      <td>Claim</td>\n",
       "      <td>[and, may, cause, death]</td>\n",
       "    </tr>\n",
       "    <tr>\n",
       "      <th>59</th>\n",
       "      <td>Claim</td>\n",
       "      <td>[it, can, be, illegal]</td>\n",
       "    </tr>\n",
       "    <tr>\n",
       "      <th>62</th>\n",
       "      <td>Unannotated</td>\n",
       "      <td>[also, good, case, scenario]</td>\n",
       "    </tr>\n",
       "    <tr>\n",
       "      <th>244</th>\n",
       "      <td>Claim</td>\n",
       "      <td>[it, can, cause, accident]</td>\n",
       "    </tr>\n",
       "    <tr>\n",
       "      <th>...</th>\n",
       "      <td>...</td>\n",
       "      <td>...</td>\n",
       "    </tr>\n",
       "    <tr>\n",
       "      <th>285221</th>\n",
       "      <td>Unannotated</td>\n",
       "      <td>[one, last, reason, be]</td>\n",
       "    </tr>\n",
       "    <tr>\n",
       "      <th>285227</th>\n",
       "      <td>Unannotated</td>\n",
       "      <td>[the, last, reason, be]</td>\n",
       "    </tr>\n",
       "    <tr>\n",
       "      <th>285251</th>\n",
       "      <td>Unannotated</td>\n",
       "      <td>[get, different, opinion, can]</td>\n",
       "    </tr>\n",
       "    <tr>\n",
       "      <th>285253</th>\n",
       "      <td>Claim</td>\n",
       "      <td>[different, type, of, advice]</td>\n",
       "    </tr>\n",
       "    <tr>\n",
       "      <th>285330</th>\n",
       "      <td>Claim</td>\n",
       "      <td>[make, goal, come, true]</td>\n",
       "    </tr>\n",
       "  </tbody>\n",
       "</table>\n",
       "<p>3627 rows × 2 columns</p>\n",
       "</div>"
      ],
      "text/plain": [
       "       discourse_type                            text\n",
       "13              Claim       [be, because, bad, wreck]\n",
       "15              Claim        [and, may, cause, death]\n",
       "59              Claim          [it, can, be, illegal]\n",
       "62        Unannotated    [also, good, case, scenario]\n",
       "244             Claim      [it, can, cause, accident]\n",
       "...               ...                             ...\n",
       "285221    Unannotated         [one, last, reason, be]\n",
       "285227    Unannotated         [the, last, reason, be]\n",
       "285251    Unannotated  [get, different, opinion, can]\n",
       "285253          Claim   [different, type, of, advice]\n",
       "285330          Claim        [make, goal, come, true]\n",
       "\n",
       "[3627 rows x 2 columns]"
      ]
     },
     "metadata": {},
     "output_type": "display_data"
    },
    {
     "name": "stdout",
     "output_type": "stream",
     "text": [
      "Number of discourse unit labels with 5 or fewer tokens:\n"
     ]
    },
    {
     "data": {
      "text/plain": [
       "Unannotated             31646\n",
       "Claim                    6921\n",
       "Position                  683\n",
       "Rebuttal                  206\n",
       "Counterclaim              120\n",
       "Lead                       53\n",
       "Evidence                   39\n",
       "Concluding Statement       23\n",
       "Name: discourse_type, dtype: int64"
      ]
     },
     "metadata": {},
     "output_type": "display_data"
    },
    {
     "name": "stdout",
     "output_type": "stream",
     "text": [
      "Examples of discourse elements with exactly 5 tokens:\n"
     ]
    },
    {
     "data": {
      "text/html": [
       "<div>\n",
       "<style scoped>\n",
       "    .dataframe tbody tr th:only-of-type {\n",
       "        vertical-align: middle;\n",
       "    }\n",
       "\n",
       "    .dataframe tbody tr th {\n",
       "        vertical-align: top;\n",
       "    }\n",
       "\n",
       "    .dataframe thead th {\n",
       "        text-align: right;\n",
       "    }\n",
       "</style>\n",
       "<table border=\"1\" class=\"dataframe\">\n",
       "  <thead>\n",
       "    <tr style=\"text-align: right;\">\n",
       "      <th></th>\n",
       "      <th>discourse_type</th>\n",
       "      <th>text</th>\n",
       "    </tr>\n",
       "  </thead>\n",
       "  <tbody>\n",
       "    <tr>\n",
       "      <th>14</th>\n",
       "      <td>Claim</td>\n",
       "      <td>[put, other, life, in, danger]</td>\n",
       "    </tr>\n",
       "    <tr>\n",
       "      <th>33</th>\n",
       "      <td>Unannotated</td>\n",
       "      <td>[cell, phone, operation, while, drive]</td>\n",
       "    </tr>\n",
       "    <tr>\n",
       "      <th>57</th>\n",
       "      <td>Claim</td>\n",
       "      <td>[can, cause, a, car, accident]</td>\n",
       "    </tr>\n",
       "    <tr>\n",
       "      <th>78</th>\n",
       "      <td>Rebuttal</td>\n",
       "      <td>[and, somehmes, it, be, overrated]</td>\n",
       "    </tr>\n",
       "    <tr>\n",
       "      <th>337</th>\n",
       "      <td>Unannotated</td>\n",
       "      <td>[not, use, phone, while, drive]</td>\n",
       "    </tr>\n",
       "    <tr>\n",
       "      <th>...</th>\n",
       "      <td>...</td>\n",
       "      <td>...</td>\n",
       "    </tr>\n",
       "    <tr>\n",
       "      <th>284960</th>\n",
       "      <td>Claim</td>\n",
       "      <td>[others, might, have, different, perspective]</td>\n",
       "    </tr>\n",
       "    <tr>\n",
       "      <th>285164</th>\n",
       "      <td>Claim</td>\n",
       "      <td>[advice, may, be, more, accurate]</td>\n",
       "    </tr>\n",
       "    <tr>\n",
       "      <th>285165</th>\n",
       "      <td>Claim</td>\n",
       "      <td>[there, will, be, more, option]</td>\n",
       "    </tr>\n",
       "    <tr>\n",
       "      <th>285293</th>\n",
       "      <td>Unannotated</td>\n",
       "      <td>[nd, to, that, I, say]</td>\n",
       "    </tr>\n",
       "    <tr>\n",
       "      <th>285357</th>\n",
       "      <td>Claim</td>\n",
       "      <td>[it, can, decrease, stress, level]</td>\n",
       "    </tr>\n",
       "  </tbody>\n",
       "</table>\n",
       "<p>4455 rows × 2 columns</p>\n",
       "</div>"
      ],
      "text/plain": [
       "       discourse_type                                           text\n",
       "14              Claim                 [put, other, life, in, danger]\n",
       "33        Unannotated         [cell, phone, operation, while, drive]\n",
       "57              Claim                 [can, cause, a, car, accident]\n",
       "78           Rebuttal             [and, somehmes, it, be, overrated]\n",
       "337       Unannotated                [not, use, phone, while, drive]\n",
       "...               ...                                            ...\n",
       "284960          Claim  [others, might, have, different, perspective]\n",
       "285164          Claim              [advice, may, be, more, accurate]\n",
       "285165          Claim                [there, will, be, more, option]\n",
       "285293    Unannotated                         [nd, to, that, I, say]\n",
       "285357          Claim             [it, can, decrease, stress, level]\n",
       "\n",
       "[4455 rows x 2 columns]"
      ]
     },
     "metadata": {},
     "output_type": "display_data"
    },
    {
     "name": "stdout",
     "output_type": "stream",
     "text": [
      "Number of discourse unit labels with 6 or fewer tokens:\n"
     ]
    },
    {
     "data": {
      "text/plain": [
       "Unannotated             32522\n",
       "Claim                    9676\n",
       "Position                 1538\n",
       "Rebuttal                  330\n",
       "Counterclaim              227\n",
       "Evidence                  104\n",
       "Lead                       89\n",
       "Concluding Statement       58\n",
       "Name: discourse_type, dtype: int64"
      ]
     },
     "metadata": {},
     "output_type": "display_data"
    },
    {
     "name": "stdout",
     "output_type": "stream",
     "text": [
      "Examples of discourse elements with exactly 6 tokens:\n"
     ]
    },
    {
     "data": {
      "text/html": [
       "<div>\n",
       "<style scoped>\n",
       "    .dataframe tbody tr th:only-of-type {\n",
       "        vertical-align: middle;\n",
       "    }\n",
       "\n",
       "    .dataframe tbody tr th {\n",
       "        vertical-align: top;\n",
       "    }\n",
       "\n",
       "    .dataframe thead th {\n",
       "        text-align: right;\n",
       "    }\n",
       "</style>\n",
       "<table border=\"1\" class=\"dataframe\">\n",
       "  <thead>\n",
       "    <tr style=\"text-align: right;\">\n",
       "      <th></th>\n",
       "      <th>discourse_type</th>\n",
       "      <th>text</th>\n",
       "    </tr>\n",
       "  </thead>\n",
       "  <tbody>\n",
       "    <tr>\n",
       "      <th>89</th>\n",
       "      <td>Claim</td>\n",
       "      <td>[because, it, can, cause, vehicle, collision]</td>\n",
       "    </tr>\n",
       "    <tr>\n",
       "      <th>147</th>\n",
       "      <td>Claim</td>\n",
       "      <td>[the, most, detrimental, outcome, be, death]</td>\n",
       "    </tr>\n",
       "    <tr>\n",
       "      <th>191</th>\n",
       "      <td>Claim</td>\n",
       "      <td>[for, example, it, be, extremely, dangerous]</td>\n",
       "    </tr>\n",
       "    <tr>\n",
       "      <th>342</th>\n",
       "      <td>Claim</td>\n",
       "      <td>[a, phone, be, a, big, distraction]</td>\n",
       "    </tr>\n",
       "    <tr>\n",
       "      <th>368</th>\n",
       "      <td>Claim</td>\n",
       "      <td>[you, can, get, in, a, wreck]</td>\n",
       "    </tr>\n",
       "    <tr>\n",
       "      <th>...</th>\n",
       "      <td>...</td>\n",
       "      <td>...</td>\n",
       "    </tr>\n",
       "    <tr>\n",
       "      <th>284846</th>\n",
       "      <td>Claim</td>\n",
       "      <td>[they, often, have, different, life, experint]</td>\n",
       "    </tr>\n",
       "    <tr>\n",
       "      <th>284918</th>\n",
       "      <td>Claim</td>\n",
       "      <td>[most, of, the, time, majority, win]</td>\n",
       "    </tr>\n",
       "    <tr>\n",
       "      <th>284981</th>\n",
       "      <td>Claim</td>\n",
       "      <td>[you, can, make, a, well, choice]</td>\n",
       "    </tr>\n",
       "    <tr>\n",
       "      <th>285270</th>\n",
       "      <td>Claim</td>\n",
       "      <td>[see, the, person, point, of, view]</td>\n",
       "    </tr>\n",
       "    <tr>\n",
       "      <th>285359</th>\n",
       "      <td>Claim</td>\n",
       "      <td>[can, be, very, helpful, and, beneficial]</td>\n",
       "    </tr>\n",
       "  </tbody>\n",
       "</table>\n",
       "<p>4853 rows × 2 columns</p>\n",
       "</div>"
      ],
      "text/plain": [
       "       discourse_type                                            text\n",
       "89              Claim   [because, it, can, cause, vehicle, collision]\n",
       "147             Claim    [the, most, detrimental, outcome, be, death]\n",
       "191             Claim    [for, example, it, be, extremely, dangerous]\n",
       "342             Claim             [a, phone, be, a, big, distraction]\n",
       "368             Claim                   [you, can, get, in, a, wreck]\n",
       "...               ...                                             ...\n",
       "284846          Claim  [they, often, have, different, life, experint]\n",
       "284918          Claim            [most, of, the, time, majority, win]\n",
       "284981          Claim               [you, can, make, a, well, choice]\n",
       "285270          Claim             [see, the, person, point, of, view]\n",
       "285359          Claim       [can, be, very, helpful, and, beneficial]\n",
       "\n",
       "[4853 rows x 2 columns]"
      ]
     },
     "metadata": {},
     "output_type": "display_data"
    },
    {
     "name": "stdout",
     "output_type": "stream",
     "text": [
      "Number of discourse unit labels with 7 or fewer tokens:\n"
     ]
    },
    {
     "data": {
      "text/plain": [
       "Unannotated             33366\n",
       "Claim                   12889\n",
       "Position                 2453\n",
       "Rebuttal                  488\n",
       "Counterclaim              407\n",
       "Evidence                  178\n",
       "Lead                      142\n",
       "Concluding Statement       97\n",
       "Name: discourse_type, dtype: int64"
      ]
     },
     "metadata": {},
     "output_type": "display_data"
    },
    {
     "name": "stdout",
     "output_type": "stream",
     "text": [
      "Examples of discourse elements with exactly 7 tokens:\n"
     ]
    },
    {
     "data": {
      "text/html": [
       "<div>\n",
       "<style scoped>\n",
       "    .dataframe tbody tr th:only-of-type {\n",
       "        vertical-align: middle;\n",
       "    }\n",
       "\n",
       "    .dataframe tbody tr th {\n",
       "        vertical-align: top;\n",
       "    }\n",
       "\n",
       "    .dataframe thead th {\n",
       "        text-align: right;\n",
       "    }\n",
       "</style>\n",
       "<table border=\"1\" class=\"dataframe\">\n",
       "  <thead>\n",
       "    <tr style=\"text-align: right;\">\n",
       "      <th></th>\n",
       "      <th>discourse_type</th>\n",
       "      <th>text</th>\n",
       "    </tr>\n",
       "  </thead>\n",
       "  <tbody>\n",
       "    <tr>\n",
       "      <th>23</th>\n",
       "      <td>Unannotated</td>\n",
       "      <td>[drive, while, the, use, of, cellular, device]</td>\n",
       "    </tr>\n",
       "    <tr>\n",
       "      <th>123</th>\n",
       "      <td>Claim</td>\n",
       "      <td>[you, should, have, any, distraction, while, d...</td>\n",
       "    </tr>\n",
       "    <tr>\n",
       "      <th>145</th>\n",
       "      <td>Claim</td>\n",
       "      <td>[it, could, lead, to, accident, and, altercation]</td>\n",
       "    </tr>\n",
       "    <tr>\n",
       "      <th>217</th>\n",
       "      <td>Position</td>\n",
       "      <td>[phone, should, not, be, use, while, drive]</td>\n",
       "    </tr>\n",
       "    <tr>\n",
       "      <th>279</th>\n",
       "      <td>Claim</td>\n",
       "      <td>[the, many, car, accident, they, be, cause]</td>\n",
       "    </tr>\n",
       "    <tr>\n",
       "      <th>...</th>\n",
       "      <td>...</td>\n",
       "      <td>...</td>\n",
       "    </tr>\n",
       "    <tr>\n",
       "      <th>285267</th>\n",
       "      <td>Claim</td>\n",
       "      <td>[they, can, see, which, advice, be, well]</td>\n",
       "    </tr>\n",
       "    <tr>\n",
       "      <th>285315</th>\n",
       "      <td>Claim</td>\n",
       "      <td>[they, have, more, experience, compare, to, you]</td>\n",
       "    </tr>\n",
       "    <tr>\n",
       "      <th>285318</th>\n",
       "      <td>Claim</td>\n",
       "      <td>[give, you, multiple, perspective, to, deliber...</td>\n",
       "    </tr>\n",
       "    <tr>\n",
       "      <th>285358</th>\n",
       "      <td>Claim</td>\n",
       "      <td>[a, great, chance, to, learn, something, new]</td>\n",
       "    </tr>\n",
       "    <tr>\n",
       "      <th>285371</th>\n",
       "      <td>Claim</td>\n",
       "      <td>[it, show, you, more, than, one, option]</td>\n",
       "    </tr>\n",
       "  </tbody>\n",
       "</table>\n",
       "<p>5476 rows × 2 columns</p>\n",
       "</div>"
      ],
      "text/plain": [
       "       discourse_type                                               text\n",
       "23        Unannotated     [drive, while, the, use, of, cellular, device]\n",
       "123             Claim  [you, should, have, any, distraction, while, d...\n",
       "145             Claim  [it, could, lead, to, accident, and, altercation]\n",
       "217          Position        [phone, should, not, be, use, while, drive]\n",
       "279             Claim        [the, many, car, accident, they, be, cause]\n",
       "...               ...                                                ...\n",
       "285267          Claim          [they, can, see, which, advice, be, well]\n",
       "285315          Claim   [they, have, more, experience, compare, to, you]\n",
       "285318          Claim  [give, you, multiple, perspective, to, deliber...\n",
       "285358          Claim      [a, great, chance, to, learn, something, new]\n",
       "285371          Claim           [it, show, you, more, than, one, option]\n",
       "\n",
       "[5476 rows x 2 columns]"
      ]
     },
     "metadata": {},
     "output_type": "display_data"
    },
    {
     "name": "stdout",
     "output_type": "stream",
     "text": [
      "Number of discourse unit labels with 8 or fewer tokens:\n"
     ]
    },
    {
     "data": {
      "text/plain": [
       "Unannotated             34240\n",
       "Claim                   16386\n",
       "Position                 3633\n",
       "Rebuttal                  654\n",
       "Counterclaim              629\n",
       "Evidence                  305\n",
       "Lead                      240\n",
       "Concluding Statement      155\n",
       "Name: discourse_type, dtype: int64"
      ]
     },
     "metadata": {},
     "output_type": "display_data"
    },
    {
     "name": "stdout",
     "output_type": "stream",
     "text": [
      "Examples of discourse elements with exactly 8 tokens:\n"
     ]
    },
    {
     "data": {
      "text/html": [
       "<div>\n",
       "<style scoped>\n",
       "    .dataframe tbody tr th:only-of-type {\n",
       "        vertical-align: middle;\n",
       "    }\n",
       "\n",
       "    .dataframe tbody tr th {\n",
       "        vertical-align: top;\n",
       "    }\n",
       "\n",
       "    .dataframe thead th {\n",
       "        text-align: right;\n",
       "    }\n",
       "</style>\n",
       "<table border=\"1\" class=\"dataframe\">\n",
       "  <thead>\n",
       "    <tr style=\"text-align: right;\">\n",
       "      <th></th>\n",
       "      <th>discourse_type</th>\n",
       "      <th>text</th>\n",
       "    </tr>\n",
       "  </thead>\n",
       "  <tbody>\n",
       "    <tr>\n",
       "      <th>67</th>\n",
       "      <td>Claim</td>\n",
       "      <td>[drive, while, on, your, phone, can, be, illegal]</td>\n",
       "    </tr>\n",
       "    <tr>\n",
       "      <th>113</th>\n",
       "      <td>Claim</td>\n",
       "      <td>[they, can, be, severely, injure, or, worse, die]</td>\n",
       "    </tr>\n",
       "    <tr>\n",
       "      <th>121</th>\n",
       "      <td>Concluding Statement</td>\n",
       "      <td>[all, driver, should, refrain, from, there, ce...</td>\n",
       "    </tr>\n",
       "    <tr>\n",
       "      <th>153</th>\n",
       "      <td>Claim</td>\n",
       "      <td>[another, consequence, could, be, have, your, ...</td>\n",
       "    </tr>\n",
       "    <tr>\n",
       "      <th>282</th>\n",
       "      <td>Claim</td>\n",
       "      <td>[it, be, cause, concern, to, people, health, i...</td>\n",
       "    </tr>\n",
       "    <tr>\n",
       "      <th>...</th>\n",
       "      <td>...</td>\n",
       "      <td>...</td>\n",
       "    </tr>\n",
       "    <tr>\n",
       "      <th>285316</th>\n",
       "      <td>Claim</td>\n",
       "      <td>[know, the, pro, and, con, of, your, choice]</td>\n",
       "    </tr>\n",
       "    <tr>\n",
       "      <th>285328</th>\n",
       "      <td>Unannotated</td>\n",
       "      <td>[some, reason, I, think, why, advise, help, be]</td>\n",
       "    </tr>\n",
       "    <tr>\n",
       "      <th>285341</th>\n",
       "      <td>Unannotated</td>\n",
       "      <td>[ask, for, other, opinion, be, especially, ben...</td>\n",
       "    </tr>\n",
       "    <tr>\n",
       "      <th>285372</th>\n",
       "      <td>Claim</td>\n",
       "      <td>[it, can, change, your, perspective, of, a, to...</td>\n",
       "    </tr>\n",
       "    <tr>\n",
       "      <th>285374</th>\n",
       "      <td>Claim</td>\n",
       "      <td>[it, inform, you, about, what, other, people, ...</td>\n",
       "    </tr>\n",
       "  </tbody>\n",
       "</table>\n",
       "<p>6222 rows × 2 columns</p>\n",
       "</div>"
      ],
      "text/plain": [
       "              discourse_type  \\\n",
       "67                     Claim   \n",
       "113                    Claim   \n",
       "121     Concluding Statement   \n",
       "153                    Claim   \n",
       "282                    Claim   \n",
       "...                      ...   \n",
       "285316                 Claim   \n",
       "285328           Unannotated   \n",
       "285341           Unannotated   \n",
       "285372                 Claim   \n",
       "285374                 Claim   \n",
       "\n",
       "                                                     text  \n",
       "67      [drive, while, on, your, phone, can, be, illegal]  \n",
       "113     [they, can, be, severely, injure, or, worse, die]  \n",
       "121     [all, driver, should, refrain, from, there, ce...  \n",
       "153     [another, consequence, could, be, have, your, ...  \n",
       "282     [it, be, cause, concern, to, people, health, i...  \n",
       "...                                                   ...  \n",
       "285316       [know, the, pro, and, con, of, your, choice]  \n",
       "285328    [some, reason, I, think, why, advise, help, be]  \n",
       "285341  [ask, for, other, opinion, be, especially, ben...  \n",
       "285372  [it, can, change, your, perspective, of, a, to...  \n",
       "285374  [it, inform, you, about, what, other, people, ...  \n",
       "\n",
       "[6222 rows x 2 columns]"
      ]
     },
     "metadata": {},
     "output_type": "display_data"
    },
    {
     "name": "stdout",
     "output_type": "stream",
     "text": [
      "Number of discourse unit labels with 9 or fewer tokens:\n"
     ]
    },
    {
     "data": {
      "text/plain": [
       "Unannotated             35022\n",
       "Claim                   19879\n",
       "Position                 4896\n",
       "Counterclaim              897\n",
       "Rebuttal                  830\n",
       "Evidence                  452\n",
       "Lead                      370\n",
       "Concluding Statement      249\n",
       "Name: discourse_type, dtype: int64"
      ]
     },
     "metadata": {},
     "output_type": "display_data"
    },
    {
     "name": "stdout",
     "output_type": "stream",
     "text": [
      "Examples of discourse elements with exactly 9 tokens:\n"
     ]
    },
    {
     "data": {
      "text/html": [
       "<div>\n",
       "<style scoped>\n",
       "    .dataframe tbody tr th:only-of-type {\n",
       "        vertical-align: middle;\n",
       "    }\n",
       "\n",
       "    .dataframe tbody tr th {\n",
       "        vertical-align: top;\n",
       "    }\n",
       "\n",
       "    .dataframe thead th {\n",
       "        text-align: right;\n",
       "    }\n",
       "</style>\n",
       "<table border=\"1\" class=\"dataframe\">\n",
       "  <thead>\n",
       "    <tr style=\"text-align: right;\">\n",
       "      <th></th>\n",
       "      <th>discourse_type</th>\n",
       "      <th>text</th>\n",
       "    </tr>\n",
       "  </thead>\n",
       "  <tbody>\n",
       "    <tr>\n",
       "      <th>119</th>\n",
       "      <td>Counterclaim</td>\n",
       "      <td>[although, use, a, hand, free, device, may, so...</td>\n",
       "    </tr>\n",
       "    <tr>\n",
       "      <th>143</th>\n",
       "      <td>Unannotated</td>\n",
       "      <td>[operate, a, motor, vehicle, while, on, your, ...</td>\n",
       "    </tr>\n",
       "    <tr>\n",
       "      <th>146</th>\n",
       "      <td>Claim</td>\n",
       "      <td>[in, addition, it, would, even, cost, you, you...</td>\n",
       "    </tr>\n",
       "    <tr>\n",
       "      <th>198</th>\n",
       "      <td>Position</td>\n",
       "      <td>[in, the, end, no, one, benefit, from, this, p...</td>\n",
       "    </tr>\n",
       "    <tr>\n",
       "      <th>204</th>\n",
       "      <td>Unannotated</td>\n",
       "      <td>[should, driver, be, allow, to, use, cell, pho...</td>\n",
       "    </tr>\n",
       "    <tr>\n",
       "      <th>...</th>\n",
       "      <td>...</td>\n",
       "      <td>...</td>\n",
       "    </tr>\n",
       "    <tr>\n",
       "      <th>285150</th>\n",
       "      <td>Claim</td>\n",
       "      <td>[you, get, different, type, of, advice, to, ch...</td>\n",
       "    </tr>\n",
       "    <tr>\n",
       "      <th>285242</th>\n",
       "      <td>Claim</td>\n",
       "      <td>[you, can, see, thing, from, different, point,...</td>\n",
       "    </tr>\n",
       "    <tr>\n",
       "      <th>285364</th>\n",
       "      <td>Claim</td>\n",
       "      <td>[seek, other, opinion, can, be, very, helpful,...</td>\n",
       "    </tr>\n",
       "    <tr>\n",
       "      <th>285377</th>\n",
       "      <td>Unannotated</td>\n",
       "      <td>[next, it, can, change, your, perspective, on,...</td>\n",
       "    </tr>\n",
       "    <tr>\n",
       "      <th>285379</th>\n",
       "      <td>Unannotated</td>\n",
       "      <td>[finally, it, inform, you, about, what, other,...</td>\n",
       "    </tr>\n",
       "  </tbody>\n",
       "</table>\n",
       "<p>6353 rows × 2 columns</p>\n",
       "</div>"
      ],
      "text/plain": [
       "       discourse_type                                               text\n",
       "119      Counterclaim  [although, use, a, hand, free, device, may, so...\n",
       "143       Unannotated  [operate, a, motor, vehicle, while, on, your, ...\n",
       "146             Claim  [in, addition, it, would, even, cost, you, you...\n",
       "198          Position  [in, the, end, no, one, benefit, from, this, p...\n",
       "204       Unannotated  [should, driver, be, allow, to, use, cell, pho...\n",
       "...               ...                                                ...\n",
       "285150          Claim  [you, get, different, type, of, advice, to, ch...\n",
       "285242          Claim  [you, can, see, thing, from, different, point,...\n",
       "285364          Claim  [seek, other, opinion, can, be, very, helpful,...\n",
       "285377    Unannotated  [next, it, can, change, your, perspective, on,...\n",
       "285379    Unannotated  [finally, it, inform, you, about, what, other,...\n",
       "\n",
       "[6353 rows x 2 columns]"
      ]
     },
     "metadata": {},
     "output_type": "display_data"
    }
   ],
   "source": [
    "# for i in range(2,10):\n",
    "#     print(f'Number of discourse unit labels with {str(i)} or fewer tokens:')\n",
    "#     display(discourse_types[discourse_types['text'].apply(len) <= i]['discourse_type'].value_counts())\n",
    "#     print(f'Examples of discourse elements with exactly {str(i)} tokens:')\n",
    "#     display(discourse_types[(discourse_types['text'].apply(len) == i)]) #& (discourse_types['discourse_type'].str.match('Claim'))][:5])"
   ]
  },
  {
   "cell_type": "code",
   "execution_count": 21,
   "id": "05612c04-e031-4fcc-8e72-51691c5c23a9",
   "metadata": {},
   "outputs": [],
   "source": [
    "tuples = []\n",
    "total = discourse_types['discourse_type'].value_counts()\n",
    "for label, count in total.items():\n",
    "    tuples.append((label.replace(\" \", \"_\"), 31, count))\n",
    "    \n",
    "for i in range(1,30):\n",
    "    s = discourse_types[discourse_types['text'].apply(len) <= i]['discourse_type'].value_counts()\n",
    "    for label, count in s.items():\n",
    "        tuples.append((label.replace(\" \", \"_\"), i, count))\n",
    "\n",
    "data_loss = pd.DataFrame(tuples, columns=['label','max_tokens','count'])"
   ]
  },
  {
   "cell_type": "code",
   "execution_count": 45,
   "id": "52b229c6-11a4-4259-b222-c444c52e3f18",
   "metadata": {},
   "outputs": [
    {
     "data": {
      "image/png": "[encoded data removed]",
      "text/plain": [
       "<Figure size 864x864 with 1 Axes>"
      ]
     },
     "metadata": {
      "needs_background": "light"
     },
     "output_type": "display_data"
    }
   ],
   "source": [
    "plt.rcParams[\"figure.figsize\"] = (12,12)\n",
    "ax = sns.lineplot(data=data_loss,x='max_tokens',y='count',hue='label')\n",
    "# sns.lineplot(data_loss)"
   ]
  },
  {
   "cell_type": "markdown",
   "id": "ab86eec1-10a4-4afe-a3be-35d200fdbb57",
   "metadata": {
    "jp-MarkdownHeadingCollapsed": true,
    "tags": []
   },
   "source": [
    "## Cleaning\n",
    "Tried removing 2 and 10. 2 made little difference; 10 seemed overly aggressive.\n",
    "Now removing anything with 5 or fewer words. This costs about 100,000 words and gives us more meaningful document vectors."
   ]
  },
  {
   "cell_type": "code",
   "execution_count": 46,
   "id": "e6df4c9c-2d16-4993-b1ec-b2f1b5e411c6",
   "metadata": {},
   "outputs": [
    {
     "data": {
      "text/plain": [
       "10569558"
      ]
     },
     "metadata": {},
     "output_type": "display_data"
    },
    {
     "data": {
      "text/plain": [
       "10487146"
      ]
     },
     "metadata": {},
     "output_type": "display_data"
    },
    {
     "data": {
      "text/html": [
       "<div>\n",
       "<style scoped>\n",
       "    .dataframe tbody tr th:only-of-type {\n",
       "        vertical-align: middle;\n",
       "    }\n",
       "\n",
       "    .dataframe tbody tr th {\n",
       "        vertical-align: top;\n",
       "    }\n",
       "\n",
       "    .dataframe thead th {\n",
       "        text-align: right;\n",
       "    }\n",
       "</style>\n",
       "<table border=\"1\" class=\"dataframe\">\n",
       "  <thead>\n",
       "    <tr style=\"text-align: right;\">\n",
       "      <th></th>\n",
       "      <th>discourse_type</th>\n",
       "      <th>text</th>\n",
       "    </tr>\n",
       "  </thead>\n",
       "  <tbody>\n",
       "    <tr>\n",
       "      <th>1</th>\n",
       "      <td>Lead</td>\n",
       "      <td>[modern, human, today, be, always, on, their, ...</td>\n",
       "    </tr>\n",
       "    <tr>\n",
       "      <th>2</th>\n",
       "      <td>Position</td>\n",
       "      <td>[they, be, some, really, bad, consequence, whe...</td>\n",
       "    </tr>\n",
       "    <tr>\n",
       "      <th>3</th>\n",
       "      <td>Evidence</td>\n",
       "      <td>[some, certain, area, in, the, United, States,...</td>\n",
       "    </tr>\n",
       "    <tr>\n",
       "      <th>4</th>\n",
       "      <td>Evidence</td>\n",
       "      <td>[when, people, have, phone, they, know, about,...</td>\n",
       "    </tr>\n",
       "    <tr>\n",
       "      <th>5</th>\n",
       "      <td>Claim</td>\n",
       "      <td>[driving, be, one, of, the, way, how, to, get,...</td>\n",
       "    </tr>\n",
       "    <tr>\n",
       "      <th>...</th>\n",
       "      <td>...</td>\n",
       "      <td>...</td>\n",
       "    </tr>\n",
       "    <tr>\n",
       "      <th>285377</th>\n",
       "      <td>Unannotated</td>\n",
       "      <td>[next, it, can, change, your, perspective, on,...</td>\n",
       "    </tr>\n",
       "    <tr>\n",
       "      <th>285378</th>\n",
       "      <td>Evidence</td>\n",
       "      <td>[one, person, can, change, your, option, but, ...</td>\n",
       "    </tr>\n",
       "    <tr>\n",
       "      <th>285379</th>\n",
       "      <td>Unannotated</td>\n",
       "      <td>[finally, it, inform, you, about, what, other,...</td>\n",
       "    </tr>\n",
       "    <tr>\n",
       "      <th>285380</th>\n",
       "      <td>Evidence</td>\n",
       "      <td>[have, more, than, one, person, opinion, might...</td>\n",
       "    </tr>\n",
       "    <tr>\n",
       "      <th>285382</th>\n",
       "      <td>Concluding Statement</td>\n",
       "      <td>[find, more, than, one, persons, view, be, wel...</td>\n",
       "    </tr>\n",
       "  </tbody>\n",
       "</table>\n",
       "<p>245692 rows × 2 columns</p>\n",
       "</div>"
      ],
      "text/plain": [
       "              discourse_type  \\\n",
       "1                       Lead   \n",
       "2                   Position   \n",
       "3                   Evidence   \n",
       "4                   Evidence   \n",
       "5                      Claim   \n",
       "...                      ...   \n",
       "285377           Unannotated   \n",
       "285378              Evidence   \n",
       "285379           Unannotated   \n",
       "285380              Evidence   \n",
       "285382  Concluding Statement   \n",
       "\n",
       "                                                     text  \n",
       "1       [modern, human, today, be, always, on, their, ...  \n",
       "2       [they, be, some, really, bad, consequence, whe...  \n",
       "3       [some, certain, area, in, the, United, States,...  \n",
       "4       [when, people, have, phone, they, know, about,...  \n",
       "5       [driving, be, one, of, the, way, how, to, get,...  \n",
       "...                                                   ...  \n",
       "285377  [next, it, can, change, your, perspective, on,...  \n",
       "285378  [one, person, can, change, your, option, but, ...  \n",
       "285379  [finally, it, inform, you, about, what, other,...  \n",
       "285380  [have, more, than, one, person, opinion, might...  \n",
       "285382  [find, more, than, one, persons, view, be, wel...  \n",
       "\n",
       "[245692 rows x 2 columns]"
      ]
     },
     "metadata": {},
     "output_type": "display_data"
    }
   ],
   "source": [
    "elements = discourse_types[discourse_types['text'].apply(len) > 5]\n",
    "display(sum(discourse_types['text'].apply(len)))\n",
    "display(sum(elements['text'].apply(len)))\n",
    "display(elements)"
   ]
  },
  {
   "cell_type": "markdown",
   "id": "543d8adb-05ea-4e20-82d0-27ffe6a4869c",
   "metadata": {
    "jp-MarkdownHeadingCollapsed": true,
    "tags": []
   },
   "source": [
    "## Training"
   ]
  },
  {
   "cell_type": "code",
   "execution_count": 55,
   "id": "0bba4319-98a3-4701-b683-25a7643f9a34",
   "metadata": {},
   "outputs": [],
   "source": [
    "from sklearn.model_selection import train_test_split\n",
    "X_train, X_test, y_train, y_test = train_test_split(elements['text'], elements['discourse_type'], test_size=0.33, random_state=42)\n",
    "# display(X_train.iloc[[99]])\n",
    "# display(y_train.iloc[[99]])\n",
    "\n",
    "# for ind, item in enumerate(X_train[:5].iteritems()):\n",
    "#     print(item[0])\n",
    "#     print(item[1])\n",
    "#     print(y_train.iloc[ind])"
   ]
  },
  {
   "cell_type": "code",
   "execution_count": 56,
   "id": "872d2b5b",
   "metadata": {},
   "outputs": [],
   "source": [
    "def toks_to_tags(texts, labels):\n",
    "    '''\n",
    "    texts and labels must have matched indices\n",
    "    '''\n",
    "    for ind, text in enumerate(texts.iteritems()):\n",
    "        yield(gensim.models.doc2vec.TaggedDocument(text[1], [str(text[0])]))\n",
    "        # yield(gensim.models.doc2vec.TaggedDocument(text[1], [str(text[0]), labels.iloc[ind]]))\n",
    "\n",
    "train_corpus = list(toks_to_tags(X_train, y_train))\n",
    "test_corpus = list(toks_to_tags(X_test, y_test))"
   ]
  },
  {
   "cell_type": "code",
   "execution_count": 57,
   "id": "16181bdd",
   "metadata": {},
   "outputs": [
    {
     "name": "stdout",
     "output_type": "stream",
     "text": [
      "The size of the model's vocabulary is 21,299.\n",
      "Word 'phone' appeared 19002 times in the training corpus.\n"
     ]
    }
   ],
   "source": [
    "model = gensim.models.doc2vec.Doc2Vec(vector_size=100, min_count=2, epochs=75, workers=4)\n",
    "model.build_vocab(train_corpus)\n",
    "print(f\"The size of the model's vocabulary is {len(model.wv):,}.\")\n",
    "print(f\"Word 'phone' appeared {model.wv.get_vecattr('phone', 'count')} times in the training corpus.\")"
   ]
  },
  {
   "cell_type": "code",
   "execution_count": 58,
   "id": "c44b32b6",
   "metadata": {},
   "outputs": [
    {
     "name": "stdout",
     "output_type": "stream",
     "text": [
      "0:13:51\n"
     ]
    }
   ],
   "source": [
    "st = tm()\n",
    "model.train(train_corpus,\n",
    "            total_examples=model.corpus_count,\n",
    "            epochs=model.epochs)\n",
    "print(datetime.timedelta(seconds=round(tm()-st)))"
   ]
  },
  {
   "cell_type": "markdown",
   "id": "4f5aa77a-f469-4344-b441-6ff002c4c374",
   "metadata": {
    "jp-MarkdownHeadingCollapsed": true,
    "tags": []
   },
   "source": [
    "## Sanity checks"
   ]
  },
  {
   "cell_type": "code",
   "execution_count": 69,
   "id": "3095582d-87c4-4878-86fd-932687920908",
   "metadata": {},
   "outputs": [
    {
     "name": "stdout",
     "output_type": "stream",
     "text": [
      "The number of computed word vectors is... 21299\n",
      "The word vector for phone is...\n",
      "[ 0.9440264   1.843681   -0.2831421   0.60748595 -0.34179407  0.7007451\n",
      " -0.358797   -0.37417257 -1.2422585   0.59644216  3.108598    0.22268274\n",
      " -1.0530525  -2.3246953  -0.48684278  0.32009187  0.01501742  1.5047117\n",
      "  1.0677439   1.5038415   1.3475753  -0.05590146 -1.1784378  -0.8798601\n",
      "  0.05685527  0.18976839  0.4826308   1.3438097   2.4083922   0.04120188\n",
      "  1.0743891  -1.1654581   0.11240643 -0.35979745 -1.0850812  -1.3420819\n",
      "  0.62853634  0.8924146   1.0721027   1.3649665   1.3037443  -0.5018755\n",
      " -2.6010697   0.3215218   2.094011    0.85365975 -0.282152    0.3489436\n",
      " -2.1781473  -0.45274383  1.518478   -0.5565993   0.01365317  0.54092485\n",
      "  1.5923052  -1.0499762   1.0016569   0.85064286  0.09075197 -2.7371936\n",
      " -0.8553061   1.846229    1.504581   -0.5167069   1.2849907   1.5717323\n",
      " -0.37174362  2.2149372  -0.6945535  -1.9493749  -0.48622608  0.5315689\n",
      "  1.6906598  -1.8698798   0.7340799  -1.6570753   0.5259586   1.7077557\n",
      " -0.22036862  0.946666   -0.7389847  -0.39616013 -0.74846953  0.82768035\n",
      " -2.4305897  -0.37333515 -0.14908212 -0.01234308 -0.4940872  -2.8630154\n",
      " -0.9472539   1.197513    0.3733743   0.40157357  0.13085623  0.31067476\n",
      " -0.8302242   1.0631803   1.0972837  -1.182555  ]\n",
      "\n",
      "Most similar words to phone:\n",
      "cellphone 0.82 -- advice 0.78 -- device 0.76 -- opinion 0.75 -- \n",
      "\n",
      "Most similar words to election:\n",
      "candidate 0.78 -- canidate 0.78 -- voting 0.77 -- vote 0.71 -- \n",
      "\n",
      "Most similar words to help:\n",
      "do 0.85 -- be 0.82 -- have 0.81 -- let 0.79 -- \n",
      "\n",
      "Most similar words to believe:\n",
      "think 0.9 -- agree 0.76 -- know 0.76 -- belive 0.74 -- \n",
      "\n",
      "Most similar words to argue:\n",
      "believe 0.72 -- think 0.67 -- say 0.65 -- agree 0.63 -- \n",
      "\n",
      "Most similar words to car:\n",
      "vehicle 0.9 -- driver 0.77 -- automobile 0.75 -- road 0.71 -- \n",
      "\n",
      "Most similar words to drive:\n",
      "operate 0.7 -- play 0.7 -- work 0.69 -- communicate 0.69 -- \n",
      "\n",
      "We also have paragraph or document vectors\n",
      "The word vector for discourse element 1 is..\n",
      "however student be more motivated when give the space to be creative be passionate from that motivation will decrease procrastination and student will actually learn something if they design project the way they like \n",
      "[ 0.8198045   0.78067565  0.8894753   1.7204974  -0.05792305  0.8888965\n",
      "  0.2814222   0.46675813  1.2687315   0.1947049  -2.589229   -0.6100916\n",
      "  1.0513116   0.46685556  0.35970166 -0.46958148 -0.3308335  -0.15112028\n",
      " -1.707077   -0.9599285   1.3993292   0.8782378   0.760103   -0.42495683\n",
      "  1.2920824  -0.52301294 -1.3721846  -0.41596997  0.5470549  -1.4444115\n",
      " -1.1699717  -0.13516828 -0.43174273  0.01370167 -0.47674784  0.76292175\n",
      "  0.24894853 -1.3468732  -0.74136955  0.30523998 -0.02030309 -0.01014372\n",
      " -0.14397463  1.526518   -0.09287452  0.19115788 -0.07841588  0.43710965\n",
      " -1.0638493  -0.42132738 -1.7875223   0.5977778   0.83278376 -1.3522509\n",
      " -1.3799353   0.21310015 -0.395197    0.54665965  0.0559048  -0.22362988\n",
      " -0.8497416   0.31707472  0.3284466  -1.1111887   1.3343023  -0.73863995\n",
      "  0.03097717  0.8807592   0.8756681   0.09447721  1.2287208  -0.09942358\n",
      " -0.28441545 -0.16543232 -1.1597614   0.3550893   1.01706    -0.04343315\n",
      " -0.48301163  0.8847163   0.31465515  0.01999376  1.2865223  -0.31585628\n",
      "  0.874411   -0.3520776  -1.1390611  -0.48798853 -0.34238622 -0.265434\n",
      " -1.1985646  -1.5776786  -1.2944942   0.34627554 -0.78915393 -1.0698445\n",
      "  0.9702036  -0.70315933  0.18037848  0.3373011 ]\n",
      "\n"
     ]
    }
   ],
   "source": [
    "print('The number of computed word vectors is...', len(model.wv))\n",
    "word_vectors = model.wv\n",
    "print('The word vector for phone is...')\n",
    "print(word_vectors['phone'])\n",
    "\n",
    "diag_words = ['phone', 'election', 'help', 'believe', 'argue', 'car', 'drive']\n",
    "\n",
    "def simmer(diag_words, num_results):\n",
    "    print()\n",
    "    for word in diag_words:\n",
    "        print(f'Most similar words to {word}:')\n",
    "        for sim_word, score in word_vectors.most_similar(positive=[word])[:num_results]:\n",
    "            print(sim_word, round(score, 2), end=' -- ')\n",
    "        print('\\n')\n",
    "        \n",
    "simmer(diag_words, 4)\n",
    "\n",
    "print('We also have paragraph or document vectors')\n",
    "print('The word vector for discourse element 1 is..')\n",
    "[print(word, end=' ') for word in X_train.iat[1]]\n",
    "print()\n",
    "print(model.dv[1])\n",
    "print()\n",
    "\n",
    "# print('We also have keyed vectors that are similar to document vectors but represent a label')\n",
    "# print('The keyed vector for Claim is...')\n",
    "# print(model.dv['Claim'])"
   ]
  },
  {
   "cell_type": "markdown",
   "id": "715d7b8c-0ea8-49dc-80ac-602cbe912ea0",
   "metadata": {
    "tags": []
   },
   "source": [
    "## Modelling"
   ]
  },
  {
   "cell_type": "code",
   "execution_count": 60,
   "id": "84203257-a22e-43e2-9d94-7494614086b2",
   "metadata": {
    "jupyter": {
     "source_hidden": true
    },
    "tags": []
   },
   "outputs": [],
   "source": [
    "# for text in test_corpus[:5]:\n",
    "#     print(y_test.iloc[int(text.tags)])\n",
    "#     print(text.tags)\n",
    "#     print(X_test.iloc[int(text.tags)])\n",
    "\n",
    "# def diagnosticator(test_corpus, X_train, y_train, debug=False):\n",
    "#     y_pred = []\n",
    "#     y_true = []\n",
    "#     for doc in test_corpus:\n",
    "#         idx = int(doc.tags[0])\n",
    "#         inferred_vector = model.infer_vector(doc.words)\n",
    "#         sims = model.dv.similar_by_vector(inferred_vector, topn=9)\n",
    "\n",
    "#         # pred = int(sims[0][0]) if sims[0][0].isdigit() else sims[0][0]\n",
    "#         pred = next(int(pred[0]) for pred in sims if pred[0].isdigit())\n",
    "#         print(sims)\n",
    "#         print(pred)\n",
    "# #         if debug:\n",
    "# #             print(f'True: {doc.tags[1]}')\n",
    "# #             print('Unseen text:', end='  ')\n",
    "# #             [print(word, end=' ') for word in doc.words]\n",
    "# #             print()\n",
    "# #         if type(pred) == int:\n",
    "# #             pred_label = y_train.at[pred]\n",
    "# #             if debug:\n",
    "# #                 print('Most similar text:', end='  ')\n",
    "# #                 [print(word, end=' ') for word in X_train[pred]]\n",
    "# #                 print()\n",
    "# #                 print(f'Predicted: {pred_label}')\n",
    "# #                 print('---')\n",
    "# #         elif type(pred) == str:\n",
    "# #             pred_label = pred\n",
    "# #             if debug:\n",
    "# #                 print(f'Most similar to keyed vector: {pred}')\n",
    "# #                 print('---')\n",
    "\n",
    "# #         y_true.append(doc.tags[1])\n",
    "#         # y_pred.append(pred_label)\n",
    "# #         second_ranks.append(sims[1])\n",
    "#     return y_true, y_pred"
   ]
  },
  {
   "cell_type": "code",
   "execution_count": 70,
   "id": "4b1e5773-a73c-4378-8e6f-3adcc0a19134",
   "metadata": {},
   "outputs": [],
   "source": [
    "def diagnosticator(X_test, y_test, X_train, y_train, debug=False):\n",
    "    y_pred = []\n",
    "    y_true = []\n",
    "    for ind, doc in tqdm(X_test.iteritems(), total=len(X_test)):\n",
    "        inferred_vector = model.infer_vector(doc)\n",
    "        pred = int(model.dv.similar_by_vector(inferred_vector, topn=1)[0][0])\n",
    "        if debug:\n",
    "            print(f'True: {y_test.at[ind]}')\n",
    "            print('Unseen text:', end='  ')\n",
    "            [print(word, end=' ') for word in doc]\n",
    "            print()\n",
    "        if type(pred) == int:\n",
    "            pred_label = y_train.at[pred]\n",
    "            if debug:\n",
    "                print('Most similar text:', end='  ')\n",
    "                [print(word, end=' ') for word in X_train[pred]]\n",
    "                print()\n",
    "                print(f'Predicted: {pred_label}')\n",
    "                print('---')\n",
    "        elif type(pred) == str:\n",
    "            pred_label = pred\n",
    "            if debug:\n",
    "                print(f'Most similar to keyed vector: {pred}')\n",
    "                print('---')\n",
    "\n",
    "        y_true.append(y_test.at[ind])\n",
    "        y_pred.append(pred_label)\n",
    "    return y_true, y_pred"
   ]
  },
  {
   "cell_type": "code",
   "execution_count": 71,
   "id": "4e04bfde-9add-46c3-a561-0f51d4a3e576",
   "metadata": {},
   "outputs": [
    {
     "name": "stderr",
     "output_type": "stream",
     "text": [
      "100%|██████████| 5/5 [00:00<00:00, 76.39it/s]"
     ]
    },
    {
     "name": "stdout",
     "output_type": "stream",
     "text": [
      "True: Evidence\n",
      "Unseen text:  because people such as Carlos Arturo have use the limitation as an opportunity to take away or Vauban Heidran Walter who just feel less tense and much not only will these limitation positively effect city but positively effect the overall mood of the people too \n",
      "Most similar text:  in Germany there be certain community that ban car usage no car be allow inside the city street parking driveway and home garage have become obsolete one citizen of one of the town say when I have a car I be always tense I much happy this way in german suburb the anxiety one get when drive a car be almost unreal Most kid and up now just do not get their license just because the thought of drive scare they citizen of city that have just one day where care be prohibit such as Bogota Colombia love that singular day out of the year Most say it a good opportunity to increase mental health car free day be spin into a big hit in Bogota stress not only be awful for mental health but also physical of those who have high level of anxiety or be expose to it be tired all the time often feel weak or sometimes may even cause heart issue the number one reason people have stress be by drive so use car less be the good way to decrease stress and promote good mental health \n",
      "Predicted: Evidence\n",
      "---\n",
      "True: Claim\n",
      "Unseen text:  student will focus more in the activity they like the most and in the school \n",
      "Most similar text:  student will like go to school more \n",
      "Predicted: Claim\n",
      "---\n",
      "True: Lead\n",
      "Unseen text:  car be a convience to people worldwide we use they to go to work school and many more place on a daily basis even within walking distance many still choose to take their car out of laziness be this how we should really live \n",
      "Most similar text:  on the other hand it be still crucial for student to attend school to develop communication and social skill \n",
      "Predicted: Counterclaim\n",
      "---\n",
      "True: Claim\n",
      "Unseen text:  force someone to helpa cause should be aginst the constitution \n",
      "Most similar text:  I agree with policy cause student should be allow to communicate with other \n",
      "Predicted: Claim\n",
      "---\n",
      "True: Unannotated\n",
      "Unseen text:  so that why student should really leave there phone at home \n",
      "Most similar text:  student should just leave their phone at home \n",
      "Predicted: Position\n",
      "---\n"
     ]
    },
    {
     "name": "stderr",
     "output_type": "stream",
     "text": [
      "\n"
     ]
    }
   ],
   "source": [
    "x, y = diagnosticator(X_test=X_test[:5],\n",
    "                      y_test=y_test,\n",
    "                      X_train=X_train,\n",
    "                      y_train=y_train,\n",
    "                      debug=True)"
   ]
  },
  {
   "cell_type": "code",
   "execution_count": 63,
   "id": "e61a21f7-ead7-441e-9fe0-d930afd0bef9",
   "metadata": {
    "jupyter": {
     "source_hidden": true
    },
    "tags": []
   },
   "outputs": [],
   "source": [
    "# labels = ['Claim', 'Evidence', 'Unannotated', 'Position', 'Concluding Statement',\n",
    "#        'Lead', 'Counterclaim', 'Rebuttal']\n",
    "# for label in labels:\n",
    "#     print(model.dv.get_index(label, default=None))"
   ]
  },
  {
   "cell_type": "code",
   "execution_count": 65,
   "id": "c6e7e312",
   "metadata": {
    "tags": []
   },
   "outputs": [],
   "source": [
    "# def diagnosticator(texts):\n",
    "#     y_pred = []\n",
    "#     y_true = []\n",
    "# #     second_ranks = []\n",
    "#     for text in texts:\n",
    "#         label = text.tags[0]\n",
    "#         inferred_vector = model.infer_vector(text.words)\n",
    "#         sims = model.dv.most_similar([inferred_vector], topn=1)\n",
    "# #         sims = model.dv.most_similar([inferred_vector], topn=len(model.dv))\n",
    "#         pred = sims[0][0]\n",
    "# #         pred = [docid for docid, sim in sims].index(label)\n",
    "#         y_true.append(label)\n",
    "#         y_pred.append(pred)\n",
    "# #         second_ranks.append(sims[1])\n",
    "#     return y_true, y_pred"
   ]
  },
  {
   "cell_type": "code",
   "execution_count": 74,
   "id": "26ca0bc0-d139-4432-8811-4b4fbf592bdb",
   "metadata": {},
   "outputs": [],
   "source": [
    "y_true, y_pred = diagnosticator(X_test=X_test[:1000],\n",
    "                                y_test=y_test,\n",
    "                                X_train=X_train,\n",
    "                                y_train=y_train)"
   ]
  },
  {
   "cell_type": "code",
   "execution_count": 74,
   "id": "aa54c24f-e558-4841-9f3f-b69cb0acc9dd",
   "metadata": {},
   "outputs": [
    {
     "name": "stderr",
     "output_type": "stream",
     "text": [
      "100%|██████████| 1000/1000 [00:06<00:00, 143.07it/s]\n"
     ]
    },
    {
     "name": "stdout",
     "output_type": "stream",
     "text": [
      "                      precision    recall  f1-score   support\n",
      "\n",
      "               Claim       0.46      0.58      0.52       322\n",
      "Concluding Statement       0.17      0.11      0.13        82\n",
      "        Counterclaim       0.31      0.24      0.27        51\n",
      "            Evidence       0.57      0.43      0.49       287\n",
      "                Lead       0.17      0.15      0.16        53\n",
      "            Position       0.38      0.44      0.41       112\n",
      "            Rebuttal       0.14      0.20      0.17        25\n",
      "         Unannotated       0.17      0.19      0.18        68\n",
      "\n",
      "            accuracy                           0.41      1000\n",
      "           macro avg       0.30      0.29      0.29      1000\n",
      "        weighted avg       0.41      0.41      0.40      1000\n",
      "\n"
     ]
    },
    {
     "data": {
      "image/png": "[encoded data removed]",
      "text/plain": [
       "<Figure size 720x720 with 2 Axes>"
      ]
     },
     "metadata": {
      "needs_background": "light"
     },
     "output_type": "display_data"
    }
   ],
   "source": [
    "from sklearn.neighbors import KNeighborsClassifier\n",
    "from sklearn.svm import LinearSVC, NuSVC\n",
    "from sklearn.ensemble import RandomForestClassifier, AdaBoostClassifier, GradientBoostingClassifier\n",
    "from sklearn.naive_bayes import GaussianNB\n",
    "from sklearn.discriminant_analysis import LinearDiscriminantAnalysis\n",
    "from sklearn.discriminant_analysis import QuadraticDiscriminantAnalysis\n",
    "from sklearn.metrics import ConfusionMatrixDisplay, classification_report\n",
    "\n",
    "print(classification_report(y_true, y_pred))\n",
    "plt.rcParams[\"figure.figsize\"] = (17,15)\n",
    "ConfusionMatrixDisplay.from_predictions(y_true, y_pred)\n",
    "plt.show()"
   ]
  },
  {
   "cell_type": "code",
   "execution_count": 73,
   "id": "e45b4f47-d98c-4cf6-bc7f-9c620c201c86",
   "metadata": {},
   "outputs": [
    {
     "name": "stderr",
     "output_type": "stream",
     "text": [
      "100%|██████████| 164613/164613 [00:01<00:00, 150372.40it/s]\n",
      "100%|██████████| 81079/81079 [04:41<00:00, 287.63it/s]\n"
     ]
    }
   ],
   "source": [
    "# X_train_log = np.array([model.dv[i] for i in range(len(model.dv))])\n",
    "def vector_retrieval(model, labels, input_docs):\n",
    "    targets, feature_vectors = zip(*[(labels.at[int(doc.tags[0])], model[doc.tags[0]]) for doc in input_docs])\n",
    "    return targets, feature_vectors\n",
    "def vector_inference(model, labels, input_docs):\n",
    "    targets, feature_vectors = zip(*[(labels.at[int(doc.tags[0])], model.infer_vector(doc.words, steps=20)) for doc in input_docs])\n",
    "    return targets, feature_vectors\n",
    "\n",
    "y_cls_train, X_cls_train = vector_retrieval(model, y_train, tqdm(train_corpus))\n",
    "y_cls_test, X_cls_test = vector_inference(model, y_test, tqdm(test_corpus))"
   ]
  },
  {
   "cell_type": "code",
   "execution_count": 78,
   "id": "07a2a0f0-eca0-4e9f-8b0a-60b68378d16f",
   "metadata": {},
   "outputs": [
    {
     "name": "stdout",
     "output_type": "stream",
     "text": [
      "Random Forest Classifier\n",
      "                      precision    recall  f1-score   support\n",
      "\n",
      "               Claim       0.50      0.65      0.57     25057\n",
      "Concluding Statement       0.50      0.02      0.04      7294\n",
      "        Counterclaim       0.93      0.00      0.01      3071\n",
      "            Evidence       0.48      0.90      0.62     25082\n",
      "                Lead       0.88      0.00      0.00      4889\n",
      "            Position       0.84      0.09      0.16      8126\n",
      "            Rebuttal       1.00      0.00      0.00      2324\n",
      "         Unannotated       0.57      0.00      0.00      5236\n",
      "\n",
      "            accuracy                           0.49     81079\n",
      "           macro avg       0.71      0.21      0.18     81079\n",
      "        weighted avg       0.59      0.49      0.39     81079\n",
      "\n",
      "0:03:46\n"
     ]
    },
    {
     "data": {
      "image/png": "[encoded data removed]",
      "text/plain": [
       "<Figure size 432x432 with 2 Axes>"
      ]
     },
     "metadata": {
      "needs_background": "light"
     },
     "output_type": "display_data"
    },
    {
     "name": "stdout",
     "output_type": "stream",
     "text": [
      "Linear Discriminant Analysis\n",
      "                      precision    recall  f1-score   support\n",
      "\n",
      "               Claim       0.51      0.56      0.53     25057\n",
      "Concluding Statement       0.26      0.60      0.37      7294\n",
      "        Counterclaim       0.29      0.07      0.11      3071\n",
      "            Evidence       0.52      0.64      0.57     25082\n",
      "                Lead       0.37      0.25      0.30      4889\n",
      "            Position       0.41      0.04      0.07      8126\n",
      "            Rebuttal       0.16      0.06      0.08      2324\n",
      "         Unannotated       0.14      0.00      0.01      5236\n",
      "\n",
      "            accuracy                           0.45     81079\n",
      "           macro avg       0.33      0.28      0.25     81079\n",
      "        weighted avg       0.43      0.45      0.41     81079\n",
      "\n",
      "0:00:03\n"
     ]
    },
    {
     "data": {
      "image/png": "[encoded data removed]",
      "text/plain": [
       "<Figure size 432x432 with 2 Axes>"
      ]
     },
     "metadata": {
      "needs_background": "light"
     },
     "output_type": "display_data"
    },
    {
     "name": "stdout",
     "output_type": "stream",
     "text": [
      "LinearSVC\n"
     ]
    },
    {
     "name": "stderr",
     "output_type": "stream",
     "text": [
      "/opt/conda/lib/python3.9/site-packages/sklearn/svm/_base.py:1206: ConvergenceWarning: Liblinear failed to converge, increase the number of iterations.\n",
      "  warnings.warn(\n"
     ]
    },
    {
     "name": "stdout",
     "output_type": "stream",
     "text": [
      "                      precision    recall  f1-score   support\n",
      "\n",
      "               Claim       0.49      0.58      0.53     25057\n",
      "Concluding Statement       0.31      0.47      0.37      7294\n",
      "        Counterclaim       0.27      0.01      0.01      3071\n",
      "            Evidence       0.48      0.74      0.59     25082\n",
      "                Lead       0.47      0.09      0.16      4889\n",
      "            Position       0.32      0.02      0.03      8126\n",
      "            Rebuttal       0.00      0.00      0.00      2324\n",
      "         Unannotated       0.09      0.00      0.00      5236\n",
      "\n",
      "            accuracy                           0.46     81079\n",
      "           macro avg       0.30      0.24      0.21     81079\n",
      "        weighted avg       0.40      0.46      0.39     81079\n",
      "\n",
      "0:09:28\n"
     ]
    },
    {
     "data": {
      "image/png": "[encoded data removed]",
      "text/plain": [
       "<Figure size 432x432 with 2 Axes>"
      ]
     },
     "metadata": {
      "needs_background": "light"
     },
     "output_type": "display_data"
    },
    {
     "name": "stdout",
     "output_type": "stream",
     "text": [
      "AdaBoost Classifier\n",
      "                      precision    recall  f1-score   support\n",
      "\n",
      "               Claim       0.45      0.72      0.56     25057\n",
      "Concluding Statement       0.34      0.16      0.22      7294\n",
      "        Counterclaim       0.32      0.01      0.03      3071\n",
      "            Evidence       0.51      0.75      0.61     25082\n",
      "                Lead       0.32      0.02      0.04      4889\n",
      "            Position       0.41      0.03      0.06      8126\n",
      "            Rebuttal       0.29      0.00      0.01      2324\n",
      "         Unannotated       0.00      0.00      0.00      5236\n",
      "\n",
      "            accuracy                           0.47     81079\n",
      "           macro avg       0.33      0.21      0.19     81079\n",
      "        weighted avg       0.41      0.47      0.39     81079\n",
      "\n",
      "0:01:41\n"
     ]
    },
    {
     "data": {
      "image/png": "[encoded data removed]",
      "text/plain": [
       "<Figure size 432x432 with 2 Axes>"
      ]
     },
     "metadata": {
      "needs_background": "light"
     },
     "output_type": "display_data"
    }
   ],
   "source": [
    "plt.rcParams[\"figure.figsize\"] = (10,10)\n",
    "\n",
    "dict_of_classifiers = {#\"3-Neighbors Classifier\":KNeighborsClassifier(n_neighbors=3),\n",
    "                       \"Random Forest Classifier\": RandomForestClassifier(),\n",
    "                       \"Linear Discriminant Analysis\": LinearDiscriminantAnalysis(),\n",
    "                       \"LinearSVC\": LinearSVC(),\n",
    "                       \"AdaBoost Classifier\": AdaBoostClassifier(),\n",
    "                        }\n",
    "\n",
    "for name, classifier in dict_of_classifiers.items():\n",
    "    print(name)\n",
    "    st = tm()\n",
    "    classifier.fit(X_cls_train, y_cls_train)\n",
    "    y_cls_pred = classifier.predict(X_cls_test)\n",
    "    print(classification_report(y_cls_test, y_cls_pred))\n",
    "    print(datetime.timedelta(seconds=round(tm()-st)))\n",
    "    ConfusionMatrixDisplay.from_predictions(y_cls_test, y_cls_pred)\n",
    "    plt.show()"
   ]
  },
  {
   "cell_type": "code",
   "execution_count": null,
   "id": "4b5466b8-c9fd-42ad-8cb3-c9bb1c581276",
   "metadata": {},
   "outputs": [],
   "source": []
  }
 ],
 "metadata": {
  "kernelspec": {
   "display_name": "Python 3 (ipykernel)",
   "language": "python",
   "name": "python3"
  },
  "language_info": {
   "codemirror_mode": {
    "name": "ipython",
    "version": 3
   },
   "file_extension": ".py",
   "mimetype": "text/x-python",
   "name": "python",
   "nbconvert_exporter": "python",
   "pygments_lexer": "ipython3",
   "version": "3.9.7"
  }
 },
 "nbformat": 4,
 "nbformat_minor": 5
}
